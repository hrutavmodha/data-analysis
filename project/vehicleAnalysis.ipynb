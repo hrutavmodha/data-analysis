{
 "cells": [
  {
   "cell_type": "code",
   "execution_count": 124,
   "id": "3ffee4ca-d343-4e5e-9744-5affaa3877fd",
   "metadata": {},
   "outputs": [],
   "source": [
    "from pandas import read_csv as readcsv, Series as series, DataFrame as df\n",
    "from numpy import mean"
   ]
  },
  {
   "cell_type": "code",
   "execution_count": 125,
   "id": "f82384e5-4c37-4138-8cc0-9f5a2c060985",
   "metadata": {},
   "outputs": [],
   "source": [
    "vehicles = readcsv(\"../data/vehicles.csv\")"
   ]
  },
  {
   "cell_type": "code",
   "execution_count": 126,
   "id": "32316668-2269-4397-bbc4-e987868247d8",
   "metadata": {},
   "outputs": [],
   "source": [
    "def topSold(n: int):\n",
    "    tops = vehicles.sort_values(by = \"Monthly Sales (Units)\", ascending = False)\n",
    "    return tops[: n]"
   ]
  },
  {
   "cell_type": "code",
   "execution_count": 127,
   "id": "2f3af994-6f29-47d3-b368-867bfc371ce1",
   "metadata": {},
   "outputs": [],
   "source": [
    "def topBattery(n):\n",
    "    batbymile = vehicles.sort_values(by = \"Battery / Mileage\", ascending = False)\n",
    "    return batbymile[0: n]"
   ]
  },
  {
   "cell_type": "code",
   "execution_count": 128,
   "id": "24df874f-77b5-4ff3-8a3d-af2b51cf2177",
   "metadata": {},
   "outputs": [],
   "source": [
    "def latestModel(n):\n",
    "    latest = vehicles.sort_values(by = \"Launch Year\", ascending = False)\n",
    "    return latest[0: n]"
   ]
  },
  {
   "cell_type": "code",
   "execution_count": 129,
   "id": "f25fdc19-2fb0-49d8-b550-eb995c7f55f7",
   "metadata": {},
   "outputs": [],
   "source": [
    "def petrolCars():\n",
    "    return len(vehicles[vehicles[\"Fuel Type\"] == \"Petrol\"])"
   ]
  },
  {
   "cell_type": "code",
   "execution_count": 130,
   "id": "578db223-70c0-408a-9a28-3ef45ee9af9a",
   "metadata": {},
   "outputs": [],
   "source": [
    "def dieselCars():\n",
    "    return len(vehicles[vehicles[\"Fuel Type\"] == \"Diesel\"])"
   ]
  },
  {
   "cell_type": "code",
   "execution_count": 131,
   "id": "dffe3c38-c2d6-4abc-a680-982902f84bd6",
   "metadata": {},
   "outputs": [],
   "source": [
    "def electricCars(): \n",
    "    return len(vehicles[vehicles[\"Is EV?\"] == \"Yes\"])"
   ]
  },
  {
   "cell_type": "code",
   "execution_count": 132,
   "id": "8159efe5-342f-4838-b865-89c04d4bb5a4",
   "metadata": {},
   "outputs": [],
   "source": [
    "def avgSales():\n",
    "    return mean(vehicles[\"Monthly Sales (Units)\"])"
   ]
  }
 ],
 "metadata": {
  "kernelspec": {
   "display_name": "Python 3 (ipykernel)",
   "language": "python",
   "name": "python3"
  },
  "language_info": {
   "codemirror_mode": {
    "name": "ipython",
    "version": 3
   },
   "file_extension": ".py",
   "mimetype": "text/x-python",
   "name": "python",
   "nbconvert_exporter": "python",
   "pygments_lexer": "ipython3",
   "version": "3.12.7"
  }
 },
 "nbformat": 4,
 "nbformat_minor": 5
}
