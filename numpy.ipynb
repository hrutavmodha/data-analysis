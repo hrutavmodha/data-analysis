{
 "cells": [
  {
   "cell_type": "markdown",
   "id": "82c9b19e-7908-4870-bf4b-60653e03e42c",
   "metadata": {},
   "source": [
    "# Test IPYNB SetUp\n",
    "\n",
    "- After your IPYNB setup is done, to check that Python is working properly, we should always check first by running the simplest \"Hello World\" program\n",
    "  \n",
    "- Make sure you have Jupyter Notebook setup locally working\n",
    "\n",
    "- If you havno set-up for Jupyer Notebook, it is recommended to read [README.md](./README.md) \n",
    "\n",
    "- For showing the output of the cell of code or markdown, press `Shift + Enter` on the keyboard to view output"
   ]
  },
  {
   "cell_type": "code",
   "execution_count": 12,
   "id": "38914b8b-b7dd-4d98-82a2-94eef88a4635",
   "metadata": {},
   "outputs": [
    {
     "name": "stdout",
     "output_type": "stream",
     "text": [
      "Hello, World!\n"
     ]
    }
   ],
   "source": [
    "print(\"Hello, World!\")"
   ]
  },
  {
   "cell_type": "markdown",
   "id": "fa123e3b-3c63-41b3-a26a-9a1d2b727d07",
   "metadata": {},
   "source": [
    "Alright, since the output was printed as expected, now, we can move further.\n",
    "\n",
    "## NumPy\n",
    "### NumPy Introduction\n",
    "\n",
    "**NumPy (Numerical Python)** is the foundational library for numerical and scientific computing in Python. It provides:\n",
    "\n",
    "- An **efficient multi-dimensional array object**: `ndarray`\n",
    "- Functions for **mathematical, logical, shape manipulation**, and more\n",
    "- Tools for integrating C/C++ and Fortran code\n",
    "- Capabilities for **Fourier transforms**, **linear algebra**, and **random number generation**\n",
    "\n",
    "### Features of NumPy\n",
    "\n",
    "- **Performance**: Arrays are stored in contiguous blocks of memory (like C), making operations lightning-fast.\n",
    "- **Convenience**: Built-in broadcasting, vectorized operations, and slicing eliminate the need for loops.\n",
    "- **Integration**: Widely used in `Pandas`, `Matplotlib`, `Scikit-learn`, `TensorFlow`, etc.\n",
    "\n",
    "Let's get started with writing the code:\n",
    "\n",
    "### Creating Arrays"
   ]
  },
  {
   "cell_type": "code",
   "execution_count": 13,
   "id": "3658c080-a50c-4b1f-8bf8-e8a25cfd2f84",
   "metadata": {},
   "outputs": [
    {
     "name": "stdout",
     "output_type": "stream",
     "text": [
      "1-D array is:\n",
      "[1 2 3 4 5 6]\n",
      "\n",
      "2-D array is:\n",
      "[[1 2 3]\n",
      " [4 5 6]]\n",
      "\n",
      "The matrix of 0s is:\n",
      "[[0. 0. 0.]\n",
      " [0. 0. 0.]]\n",
      "\n",
      "The matrix of 1s is:\n",
      "[[1. 1.]\n",
      " [1. 1.]\n",
      " [1. 1.]]\n",
      "\n",
      "Whole matrix of a desired number:\n",
      "[[18 18 18]\n",
      " [18 18 18]\n",
      " [18 18 18]]\n",
      "\n",
      "The identity matrix is:\n",
      "[[1. 0. 0.]\n",
      " [0. 1. 0.]\n",
      " [0. 0. 1.]]\n",
      "\n",
      "Matrix of random float numbers between 0 and 1 is:\n",
      "[[0.53039694 0.3815285  0.37326994]\n",
      " [0.80241925 0.47471995 0.2894575 ]\n",
      " [0.5955692  0.65404691 0.53990861]\n",
      " [0.6579835  0.49197371 0.96379414]]\n",
      "\n",
      "Matrix of random integers within specified range:\n",
      "[[ 4  4  6  3]\n",
      " [ 9 10  8  1]\n",
      " [ 1  2  8 10]]\n",
      "\n",
      "Array generated using arange() is:\n",
      "[ 1  2  3  4  5  6  7  8  9 10]\n",
      "\n"
     ]
    }
   ],
   "source": [
    "# Importing only the required methods from NumPy \n",
    "from numpy import array, zeros, ones, eye, full, arange\n",
    "from numpy.random import randint, rand\n",
    "\n",
    "# 1D array\n",
    "a = array([1, 2, 3, 4, 5, 6])\n",
    "print(f\"1-D array is:\\n{a}\\n\")\n",
    "\n",
    "# 2D array\n",
    "b = array([[1, 2, 3], [4, 5, 6]])\n",
    "print(f\"2-D array is:\\n{b}\\n\")\n",
    "\n",
    "# Matrix of 0s\n",
    "c = zeros((2, 3))\n",
    "print(f\"The matrix of 0s is:\\n{c}\\n\")\n",
    "\n",
    "# Matrix  of 1s\n",
    "d = ones((3, 2))\n",
    "print(f\"The matrix of 1s is:\\n{d}\\n\")\n",
    "\n",
    "# Whole matrix of desired number\n",
    "e = full((3, 3), 18)\n",
    "print(f\"Whole matrix of a desired number:\\n{e}\\n\")\n",
    "\n",
    "# Identity matrix\n",
    "f = eye(3)\n",
    "print(f\"The identity matrix is:\\n{f}\\n\")\n",
    "\n",
    "# Matrix of random float numbers betweeen 0 and 1\n",
    "g = rand(4, 3)\n",
    "print(f\"Matrix of random float numbers between 0 and 1 is:\\n{g}\\n\")\n",
    "\n",
    "# Matrix of random integers within specified range\n",
    "h = randint(1, 11, (3, 4))\n",
    "print(f\"Matrix of random integers within specified range:\\n{h}\\n\")\n",
    "\n",
    "# Generating the array with specified range, in order\n",
    "i = arange(1, 11, 1)\n",
    "print(f\"Array generated using arange() is:\\n{i}\\n\")"
   ]
  },
  {
   "cell_type": "markdown",
   "id": "3681e05b-a632-4dc0-a932-75548d9fb1a0",
   "metadata": {},
   "source": [
    "### Methods of arrays"
   ]
  },
  {
   "cell_type": "code",
   "execution_count": 14,
   "id": "f88cea04-27ba-4b9a-8f73-87ea201d6001",
   "metadata": {},
   "outputs": [
    {
     "name": "stdout",
     "output_type": "stream",
     "text": [
      "Generated array is:\n",
      "[[ 7  2 10]\n",
      " [10  6  1]\n",
      " [ 1 10  3]]\n",
      "\n",
      "Shape of the array is (3, 3)\n",
      "\n",
      "The array is 2-D\n",
      "\n",
      "Total number of elements in the array is 9\n",
      "\n",
      "The data-type of the array is int32\n",
      "\n",
      "Transpose of the array is:\n",
      "[[ 7 10  1]\n",
      " [ 2  6 10]\n",
      " [10  1  3]]\n"
     ]
    }
   ],
   "source": [
    "from numpy import shape, ndim, size, dtype\n",
    "from numpy.random import randint\n",
    "\n",
    "a = randint(1, 11, (3, 3))\n",
    "print(f\"Generated array is:\\n{a}\\n\")\n",
    "\n",
    "# .shape gives the length x breadth size in a tuple\n",
    "s = a.shape\n",
    "print(f\"Shape of the array is {s}\\n\")\n",
    "\n",
    "# .ndim gives the dimension size of the array\n",
    "d = a.ndim\n",
    "print(f\"The array is {d}-D\\n\")\n",
    "\n",
    "# .size gives the number of total elements in the array\n",
    "e = a.size\n",
    "print(f\"Total number of elements in the array is {e}\\n\")\n",
    "\n",
    "# .dtype gives the data-type of the array\n",
    "f = a.dtype\n",
    "print(f\"The data-type of the array is {f}\\n\")\n",
    "\n",
    "# Obtaining the transpose of the matrix\n",
    "g = a.T\n",
    "print(f\"Transpose of the array is:\\n{g}\")"
   ]
  },
  {
   "cell_type": "markdown",
   "id": "b29f6b2c-473c-46d6-81f7-e115f2c4df31",
   "metadata": {},
   "source": [
    "### Operations on array"
   ]
  },
  {
   "cell_type": "code",
   "execution_count": 15,
   "id": "2588d3b3-8392-4b9e-b4bc-b2b0e19973fc",
   "metadata": {},
   "outputs": [
    {
     "name": "stdout",
     "output_type": "stream",
     "text": [
      "Generated array is:\n",
      "[[ 4  7  1]\n",
      " [ 6  1  1]\n",
      " [ 6  9 10]]\n",
      "\n",
      "Adding 5 to all elements in the generated array gives:\n",
      "[[ 9 12  6]\n",
      " [11  6  6]\n",
      " [11 14 15]]\n",
      "\n",
      "Adding generated array twice gives:\n",
      "[[ 8 14  2]\n",
      " [12  2  2]\n",
      " [12 18 20]]\n",
      "\n",
      "Multipyling generated array with 3 gives:\n",
      "[[12 21  3]\n",
      " [18  3  3]\n",
      " [18 27 30]]\n",
      "\n",
      "Dot-product of the a and b is:\n",
      "[[124 104  81]\n",
      " [ 76  92  57]\n",
      " [263 266 240]]\n",
      "\n",
      "Sum of all the elements of array a is 45\n",
      "\n",
      "The average of the elements of the array is 5.00\n",
      "\n",
      "The standard deviation of the array is:\n",
      "3.27\n",
      "\n",
      "The maximum number from the array is 10\n",
      "\n",
      "The minimum number from the array is 1\n",
      "\n",
      "The square root of the elements of the array is:\n",
      "[[2.         2.64575131 1.        ]\n",
      " [2.44948974 1.         1.        ]\n",
      " [2.44948974 3.         3.16227766]]\n",
      "\n",
      "The maximum element-wise between a and b is:\n",
      "[[ 9 12  6]\n",
      " [11  6  6]\n",
      " [11 14 15]]\n",
      "\n",
      "The minimum element-wise between a and b is:\n",
      "[[ 4  7  1]\n",
      " [ 6  1  1]\n",
      " [ 6  9 10]]\n",
      "\n",
      "The exponential of the elements of the array is:\n",
      "[[5.45981500e+01 1.09663316e+03 2.71828183e+00]\n",
      " [4.03428793e+02 2.71828183e+00 2.71828183e+00]\n",
      " [4.03428793e+02 8.10308393e+03 2.20264658e+04]]\n",
      "\n",
      "New generated array with random numbers is:\n",
      "[[-5.20973018 -6.99319196 16.58611697]\n",
      " [ 5.77853433  2.50657012  6.39170122]\n",
      " [-6.62798201 -2.41388467 -0.68070801]]\n",
      "\n",
      "The fractional part of the elements of the array are:\n",
      "[[-0.20973018 -0.99319196  0.58611697]\n",
      " [ 0.77853433  0.50657012  0.39170122]\n",
      " [-0.62798201 -0.41388467 -0.68070801]]\n",
      "\n",
      "The integral part of the elements of the array are:\n",
      "[[-5. -6. 16.]\n",
      " [ 5.  2.  6.]\n",
      " [-6. -2. -0.]]\n",
      "\n"
     ]
    }
   ],
   "source": [
    "import numpy as np\n",
    "from numpy import dot, sum as add, mean, std, maximum, minimum, sqrt, exp, modf\n",
    "from numpy.random import randint, randn\n",
    "\n",
    "a = randint(1, 11, (3, 3))\n",
    "print(f\"Generated array is:\\n{a}\\n\")\n",
    "\n",
    "# Adding element-wise in an array\n",
    "b = a + 5\n",
    "print(f\"Adding 5 to all elements in the generated array gives:\\n{b}\\n\")\n",
    "\n",
    "c = a + a\n",
    "print(f\"Adding generated array twice gives:\\n{c}\\n\")\n",
    "\n",
    "# Multiplying element-wise in an array\n",
    "d = a * 3\n",
    "print(f\"Multipyling generated array with 3 gives:\\n{d}\\n\")\n",
    "\n",
    "# Dot-product of the matrices \"a\" & \"b\"\n",
    "e = dot(a, b)\n",
    "print(f\"Dot-product of the a and b is:\\n{e}\\n\")\n",
    "\n",
    "# Sum of all the elements of the array \"a\"\n",
    "f = add(a)\n",
    "print(f\"Sum of all the elements of array a is {f}\\n\")\n",
    "\n",
    "# Mean of the array\n",
    "g = mean(a)\n",
    "print(f\"The average of the elements of the array is {g:.2f}\\n\")\n",
    "\n",
    "# Standard deviation of the array\n",
    "h = std(a)\n",
    "print(f\"The standard deviation of the array is:\\n{h:.2f}\\n\")\n",
    "\n",
    "# Finding maximum of the array\n",
    "i = np.max(a)\n",
    "print(f\"The maximum number from the array is {i}\\n\")\n",
    "\n",
    "# Finding minimum of the array\n",
    "j = np.min(a)\n",
    "print(f\"The minimum number from the array is {j}\\n\")\n",
    "\n",
    "# Finding the square root of the elements of the array\n",
    "k = sqrt(a)\n",
    "print(f\"The square root of the elements of the array is:\\n{k}\\n\")\n",
    "\n",
    "# Finding the maximum element-wise between two arrays\n",
    "l = maximum(a, b)\n",
    "print(f\"The maximum element-wise between a and b is:\\n{l}\\n\")\n",
    "\n",
    "# Finding the minimum element-wise between two arrays\n",
    "m = minimum(a, b)\n",
    "print(f\"The minimum element-wise between a and b is:\\n{m}\\n\")\n",
    "\n",
    "# Finding the exponential of the elements of the array\n",
    "n = exp(a)\n",
    "print(f\"The exponential of the elements of the array is:\\n{n}\\n\")\n",
    "\n",
    "q = randn(3, 3) * 10\n",
    "print(f\"New generated array with random numbers is:\\n{q}\\n\")\n",
    "\n",
    "# Finding the fractional and integral parts of the elements of the array\n",
    "[o, p] = modf(q)\n",
    "print(f\"The fractional part of the elements of the array are:\\n{o}\\n\")\n",
    "print(f\"The integral part of the elements of the array are:\\n{p}\\n\")"
   ]
  },
  {
   "cell_type": "markdown",
   "id": "111a7f2f-3ff0-47a1-b8b1-e06a76dc7a8b",
   "metadata": {},
   "source": [
    "### Reshaping arrays"
   ]
  },
  {
   "cell_type": "code",
   "execution_count": 16,
   "id": "d937f801-13f4-4d06-a932-ad9164509c2e",
   "metadata": {},
   "outputs": [
    {
     "name": "stdout",
     "output_type": "stream",
     "text": [
      "Generated array is:\n",
      "[[ 1  7  7 10  6  7  8  9]\n",
      " [ 5  9  7  3  3  8  2  3]]\n",
      "\n",
      "After reshaping, the array generated is:\n",
      "[[ 1  7  7 10]\n",
      " [ 6  7  8  9]\n",
      " [ 5  9  7  3]\n",
      " [ 3  8  2  3]]\n",
      "\n",
      "After flattening, the array is:\n",
      "[ 1  7  7 10  6  7  8  9  5  9  7  3  3  8  2  3]\n",
      "\n",
      "The 1D view of multi-dimensional array is:\n",
      "[ 1  7  7 10  6  7  8  9  5  9  7  3  3  8  2  3]\n"
     ]
    }
   ],
   "source": [
    "from numpy.random import randint\n",
    "\n",
    "a = randint(1, 11, (2, 8))\n",
    "print(f\"Generated array is:\\n{a}\\n\")\n",
    "\n",
    "# Reshaping the array\n",
    "# .reshape() function may raise an error if the total number of elements in the array does not match the new shape\n",
    "b = a.reshape(4, 4)\n",
    "print(f\"After reshaping, the array generated is:\\n{b}\\n\")\n",
    "\n",
    "# Flattening the MD arrays\n",
    "c = a.flatten()\n",
    "print(f\"After flattening, the array is:\\n{c}\\n\")\n",
    "\n",
    "# 1-D view of MD array\n",
    "d = a.ravel()\n",
    "print(f\"The 1D view of multi-dimensional array is:\\n{d}\")"
   ]
  },
  {
   "cell_type": "markdown",
   "id": "10928f55-f373-4056-8326-35eb154f7924",
   "metadata": {},
   "source": [
    "### Indexing and Slicing arrays"
   ]
  },
  {
   "cell_type": "code",
   "execution_count": 17,
   "id": "5916d083-15a3-459e-b4aa-0a67b22fd63c",
   "metadata": {},
   "outputs": [
    {
     "name": "stdout",
     "output_type": "stream",
     "text": [
      "Generated array is:\n",
      "[[1 6 3]\n",
      " [6 8 4]\n",
      " [4 6 3]]\n",
      "\n",
      "Element at 3rd row and 2nd column is 6\n",
      "\n",
      "Sliced array is:\n",
      "[[1 6]\n",
      " [6 8]\n",
      " [4 6]]\n",
      "\n"
     ]
    }
   ],
   "source": [
    "from numpy.random import randint\n",
    "\n",
    "a = randint(1, 11, (3, 3))\n",
    "print(f\"Generated array is:\\n{a}\\n\")\n",
    "\n",
    "# Indexing\n",
    "b = a[2, 1] # OR a[2][1]\n",
    "print(f\"Element at 3rd row and 2nd column is {b}\\n\")\n",
    "\n",
    "# Slicing\n",
    "c = a[:, :2]\n",
    "print(f\"Sliced array is:\\n{c}\\n\")"
   ]
  },
  {
   "cell_type": "markdown",
   "id": "3fa39913",
   "metadata": {},
   "source": [
    "#### Boolean Indexing\n",
    "\n",
    "- The indexing which is done on the basis of whether the condition being evaluated as`True` or `False` is called `Boolean Indexing`\n",
    "\n",
    "- The elements which matches the condition specified in the place of indexing is shown as `True` and rest elements are shown as `False`\n",
    "\n",
    "- Boolean Indexing results in the generation of the array consisting of only 2 values:\n",
    "    - `True`\n",
    "    - `False`\n",
    "\n",
    "- The condition which is used to filter out the elements from the array is said to be the `mask`"
   ]
  },
  {
   "cell_type": "code",
   "execution_count": 18,
   "id": "b3745f58",
   "metadata": {},
   "outputs": [
    {
     "name": "stdout",
     "output_type": "stream",
     "text": [
      "Generated array is:\n",
      "[7 6 2 1 1]\n",
      "\n",
      "Boolean Indexing result is:\n",
      "[ True  True False False False]\n",
      "\n",
      "Filtered elements from array using Boolean Indexing:\n",
      "[7 6]\n",
      "\n"
     ]
    }
   ],
   "source": [
    "from numpy.random import randint\n",
    "\n",
    "a = randint(1, 11, (5))\n",
    "print(f\"Generated array is:\\n{a}\\n\")\n",
    "\n",
    "# Boolean Indexing\n",
    "b = a > 5\n",
    "print(f\"Boolean Indexing result is:\\n{b}\\n\")\n",
    "\n",
    "# Using Boolean Indexing to filter elements\n",
    "c = a[b]\n",
    "# Here, the boolean array b is used as a mask to filter elements from array a\n",
    "print(f\"Filtered elements from array using Boolean Indexing:\\n{c}\\n\")"
   ]
  },
  {
   "cell_type": "markdown",
   "id": "06dc7148",
   "metadata": {},
   "source": [
    "#### Fancy Indexing\n",
    "\n",
    "- Fancy indexing is the method, in which, it takes the arrays of the same length as the arguement inside the indexing braces (`[]`).\n",
    "\n",
    "- Instead of looping or slicing, we can pass a list of indices directly to access elements\n",
    "\n",
    "- If you didn't get the theory, see the example of code below:"
   ]
  },
  {
   "cell_type": "code",
   "execution_count": 19,
   "id": "001854d2",
   "metadata": {},
   "outputs": [
    {
     "name": "stdout",
     "output_type": "stream",
     "text": [
      "Generated array is:\n",
      "[[3 3 9]\n",
      " [1 6 7]]\n",
      "\n",
      "Fancy Indexing result is:\n",
      "[9 1]\n",
      "\n"
     ]
    }
   ],
   "source": [
    "from numpy.random import randint\n",
    "\n",
    "a = randint(1, 11, (2, 3))\n",
    "print(f\"Generated array is:\\n{a}\\n\")\n",
    "\n",
    "# Fancy Indexing\n",
    "b = a[[0, 1], [2, 0]]\n",
    "# The above line of code is accessing the elements at point (0, 2) and (1, 0)  \n",
    "print(f\"Fancy Indexing result is:\\n{b}\\n\")"
   ]
  },
  {
   "cell_type": "markdown",
   "id": "110a35b7",
   "metadata": {},
   "source": [
    "#### Broadcasting\n",
    "\n",
    "- Broadcasting allows us to perform operations on arrays of different shapes\n",
    "\n",
    "- The array with lower dimensions is automatically expanded to match the shape of the bigger array\n",
    "\n",
    "- If the 2 arrays don't have the same shape, then they are compared element-wise from the right, and applies the rules of the broadcasting if:\n",
    "    1. Dimensions of the arrays are same\n",
    "    2. Dimension of one of the array is 1\n",
    "\n",
    "- If those above 2 conditions don't matches, it raises the error"
   ]
  },
  {
   "cell_type": "code",
   "execution_count": 20,
   "id": "09d34b73",
   "metadata": {},
   "outputs": [
    {
     "name": "stdout",
     "output_type": "stream",
     "text": [
      "Generated array 1 is:\n",
      "[ 3 10  2]\n",
      "\n",
      "Generated array 2 is:\n",
      "[[2]\n",
      " [8]]\n",
      "\n",
      "Broadcasting result is:\n",
      "[[ 5 12  4]\n",
      " [11 18 10]]\n",
      "\n"
     ]
    }
   ],
   "source": [
    "from numpy.random import randint\n",
    "\n",
    "a = randint(1, 11, (3,))\n",
    "print(f\"Generated array 1 is:\\n{a}\\n\")\n",
    "\n",
    "b = randint(1, 11, (2, 1))\n",
    "print(f\"Generated array 2 is:\\n{b}\\n\")\n",
    "\n",
    "# Broadcasting\n",
    "c = a + b\n",
    "print(f\"Broadcasting result is:\\n{c}\\n\")"
   ]
  },
  {
   "cell_type": "markdown",
   "id": "fe3e9bd3-1f23-48bd-aab3-71bb936764bc",
   "metadata": {},
   "source": [
    "### Copy and View method\n",
    "\n",
    "|**Copy**|**View**|\n",
    "|---------|---------|\n",
    "|The `.copy()` method creates another copy of the original array.|The `.view()` method creates the copy of the original array such that the both arrays are depended on each other|\n",
    "|The changes done in 1st array won't be reflected in the 2nd array and vice-versa|That means, the change in 1st array would be reflected in the 2nd array and vice-versa|\n",
    "|In other words, the array generated from the method does have pass by value|In other words, the array generated from the method have pass by reference |"
   ]
  },
  {
   "cell_type": "code",
   "execution_count": 21,
   "id": "2eab2a21-9efe-417f-84b4-898d505f529b",
   "metadata": {},
   "outputs": [
    {
     "name": "stdout",
     "output_type": "stream",
     "text": [
      "Matrix A:\n",
      "[[1 2]\n",
      " [3 4]]\n",
      "\n",
      "Matrix B:\n",
      "[[1 2]\n",
      " [3 4]]\n",
      "\n",
      "After modification of B:\n",
      "Matrix A:\n",
      "[[1 2]\n",
      " [3 4]]\n",
      "Matrix B:\n",
      "[[6 7]\n",
      " [8 9]]\n",
      "\n",
      "Matrix C:\n",
      "[[1 2]\n",
      " [3 4]]\n",
      "\n",
      "After modification of C:\n",
      "Matrix A:\n",
      "[[1 2]\n",
      " [3 5]]\n",
      "Matrix C:\n",
      "[[1 2]\n",
      " [3 5]]\n",
      "\n"
     ]
    }
   ],
   "source": [
    "from numpy import array\n",
    "\n",
    "a = array([[1, 2], [3, 4]])\n",
    "print(f\"Matrix A:\\n{a}\\n\")\n",
    "\n",
    "# .copy() method\n",
    "b = a.copy()\n",
    "print(f\"Matrix B:\\n{b}\\n\")\n",
    "b = b + 5\n",
    "print(f\"After modification of B:\\nMatrix A:\\n{a}\\nMatrix B:\\n{b}\\n\")\n",
    "\n",
    "# .view() method\n",
    "c = a.view()\n",
    "print(f\"Matrix C:\\n{c}\\n\")\n",
    "c[1][1] = 5\n",
    "print(f\"After modification of C:\\nMatrix A:\\n{a}\\nMatrix C:\\n{c}\\n\")"
   ]
  },
  {
   "cell_type": "markdown",
   "id": "fcf43d6f",
   "metadata": {},
   "source": [
    "## Note\n",
    "\n",
    "- This notebook yet does not covers the whole NumPy package of Python\n",
    "\n",
    "- So, it is recommended to visit the offical documentation of the NumPy if you want to know about it in more depth or look for the topics not covered in the notebook "
   ]
  }
 ],
 "metadata": {
  "kernelspec": {
   "display_name": "Python 3",
   "language": "python",
   "name": "python3"
  },
  "language_info": {
   "codemirror_mode": {
    "name": "ipython",
    "version": 3
   },
   "file_extension": ".py",
   "mimetype": "text/x-python",
   "name": "python",
   "nbconvert_exporter": "python",
   "pygments_lexer": "ipython3",
   "version": "3.13.2"
  }
 },
 "nbformat": 4,
 "nbformat_minor": 5
}
