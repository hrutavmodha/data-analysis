{
 "cells": [
  {
   "cell_type": "markdown",
   "id": "312c95b0-ffd5-45dd-8c8f-714be0dc31df",
   "metadata": {},
   "source": [
    "# Pandas\n",
    "- Pandas is a fast, powerful, flexible and an easy-to-use open-source data analysis tool built on the top of the Python and NumPy\n",
    "- It provides 2 data structures primarily\n",
    "**1. Series:**\n",
    "- Series is a 1-D array, which is labeled along with its index.\n",
    "- Unlike the traditional array and list, it is pretty-printed as the cells of the tables\n",
    "- The key difference between a series and an array or a list is that the indexing data-type of the series can be modified by the user, while this is not true for lists and arrays\n",
    "- Notably, not only out of list, but Series can also be created by passing the Python's built-in dictionary.\n",
    "- In case of a dictionary being the Series, the keys are taken as index\n",
    "**2. DataFrame:**\n",
    "- DataFrame is another data structure provided by Pandas.\n",
    "- It is a 2-D representation of the labeled data, from table\n",
    "# Features of Pandas\n",
    "- Pandas easily handles the missing values, showing `NA` or `NaN` for the values which are not defined\n",
    "- It provides powerful functions to classify the data in groups and also aggregate it\n",
    "- Pandas supports reading and writing the data from various formats which includes:\n",
    "    1. CSV\n",
    "    2. JSON\n",
    "    3. Excel\n",
    "    4. SQL\n",
    "    5. And many more...\n",
    "- Pandas has built-in support for time-series\n",
    "- Pandas, when combined with NumPy and MatPlotLib, can serve the purpose of data manipulation and data analysis very well\n",
    "- Let's get started with coding Pandas and its topics:\n",
    "# Series\n",
    "- Series can be created either by passing list, tuple and set or dictionary\n",
    "## List, tuple and set as series\n",
    "- If a series is created using list, tuple or set, the indexing is automatically assigned as normally.\n",
    "- Indexing values can be cutomized.\n",
    "## Dictionary as series\n",
    "- In the case of a dictionary as a series, the keys of the dictionary are taken in use as the indexes.\n",
    "- Indexing can be customized and if attempted to customize, it will show the `NaN` value because the index values passed through have no value."
   ]
  },
  {
   "cell_type": "code",
   "execution_count": 15,
   "id": "e8e11850-9cde-46cf-bca0-71b8ea744228",
   "metadata": {},
   "outputs": [
    {
     "name": "stdout",
     "output_type": "stream",
     "text": [
      "Series from a list:\n",
      "0        1\n",
      "1     True\n",
      "2    Hello\n",
      "3     3.14\n",
      "dtype: object\n",
      "\n",
      "Series from a dictionary:\n",
      "name           Chiku\n",
      "role         Batsman\n",
      "totalRuns      27599\n",
      "dtype: object\n",
      "\n",
      "Series with tweaked indexes:\n",
      "1    NaN\n",
      "2    NaN\n",
      "3    NaN\n",
      "dtype: object\n"
     ]
    }
   ],
   "source": [
    "# import Series as series from \"pandas\"\n",
    "from pandas import Series as series\n",
    "\n",
    "# Series from a list\n",
    "a = series([1, True, \"Hello\", 3.14])\n",
    "print(f\"Series from a list:\\n{a}\\n\")\n",
    "\n",
    "# Series from a dictionary\n",
    "b = series({\n",
    "    \"name\": \"Chiku\",\n",
    "    \"role\": \"Batsman\",\n",
    "    \"totalRuns\": 27599\n",
    "})\n",
    "print(f\"Series from a dictionary:\\n{b}\\n\")\n",
    "\n",
    "# Series from a dictionary, attempting to tweak index\n",
    "c = series({\n",
    "    \"name\": \"Vadapav\",\n",
    "    \"role\": \"Batsman\",\n",
    "    \"totalRuns\": 19700 \n",
    "}, index = [1, 2, 3])\n",
    "print(f\"Series with tweaked indexes:\\n{c}\")"
   ]
  },
  {
   "cell_type": "markdown",
   "id": "a62cc709-19b2-4d00-862d-c5688b5466b2",
   "metadata": {},
   "source": [
    "## Accessing index and values of the series\n",
    "1. **Values**\n",
    "- Values of a series can be accessed by using the attribute `value` of the series \n",
    "2. **Index**\n",
    "- Index of the series can be accessed by using the attribute `index` of the series "
   ]
  },
  {
   "cell_type": "code",
   "execution_count": 16,
   "id": "e5bf5d8a-0635-4683-8ea5-74c890e23c6f",
   "metadata": {},
   "outputs": [
    {
     "name": "stdout",
     "output_type": "stream",
     "text": [
      "Generated series:\n",
      "0        1\n",
      "1       Hi\n",
      "2    False\n",
      "3     3.33\n",
      "dtype: object\n",
      "\n",
      "Values of the series are:\n",
      "[1 'Hi' False 3.33]\n",
      "\n",
      "Indexes of the series are:\n",
      "RangeIndex(start=0, stop=4, step=1)\n"
     ]
    }
   ],
   "source": [
    "from pandas import Series as series\n",
    "a = series([1, \"Hi\", False, 3.33])\n",
    "print(f\"Generated series:\\n{a}\\n\")\n",
    "\n",
    "# Accessing values\n",
    "b = a.values\n",
    "print(f\"Values of the series are:\\n{b}\\n\")\n",
    "\n",
    "# Accessing indexes\n",
    "c = a.index\n",
    "print(f\"Indexes of the series are:\\n{c}\")"
   ]
  },
  {
   "cell_type": "markdown",
   "id": "dd56bdc9",
   "metadata": {},
   "source": [
    "## Customizing index of Series\n",
    "- Customizing the index of the series is a feature, which in my sense makes a series different than an array or list.\n",
    "- You can pass the `index` arguement while creating the series, if you want to customize the indexing of the series\n",
    "- If it is not passed that argue, then the series will nbe indexed normally, like that in for a list or an array "
   ]
  },
  {
   "cell_type": "code",
   "execution_count": 17,
   "id": "f5e5fd60",
   "metadata": {},
   "outputs": [
    {
     "name": "stdout",
     "output_type": "stream",
     "text": [
      "Example of customizing series index:\n",
      "a        1\n",
      "b    Hello\n",
      "c    False\n",
      "d     3.33\n",
      "dtype: object\n",
      "\n"
     ]
    }
   ],
   "source": [
    "from pandas import Series as series\n",
    "a = series([1, \"Hello\", False, 3.33], index = [\"a\", \"b\", \"c\", \"d\"])\n",
    "print(f\"Example of customizing series index:\\n{a}\\n\")"
   ]
  },
  {
   "cell_type": "markdown",
   "id": "9e8b887a-7ce6-4465-8004-1af03d2566cd",
   "metadata": {},
   "source": [
    "- Here, if you passes the index elements more or less in number than the length of the series, then, it throws the error.\n",
    "- For example, look below:"
   ]
  },
  {
   "cell_type": "code",
   "execution_count": 18,
   "id": "240b1c82-ce93-4e71-9e06-72fb49595d33",
   "metadata": {},
   "outputs": [
    {
     "ename": "ValueError",
     "evalue": "Length of values (4) does not match length of index (5)",
     "output_type": "error",
     "traceback": [
      "\u001b[1;31m---------------------------------------------------------------------------\u001b[0m",
      "\u001b[1;31mValueError\u001b[0m                                Traceback (most recent call last)",
      "Cell \u001b[1;32mIn[18], line 2\u001b[0m\n\u001b[0;32m      1\u001b[0m \u001b[38;5;28;01mfrom\u001b[39;00m \u001b[38;5;21;01mpandas\u001b[39;00m \u001b[38;5;28;01mimport\u001b[39;00m Series \u001b[38;5;28;01mas\u001b[39;00m series\n\u001b[1;32m----> 2\u001b[0m a \u001b[38;5;241m=\u001b[39m series([\u001b[38;5;241m1\u001b[39m, \u001b[38;5;124m\"\u001b[39m\u001b[38;5;124mHello\u001b[39m\u001b[38;5;124m\"\u001b[39m, \u001b[38;5;28;01mFalse\u001b[39;00m, \u001b[38;5;241m3.33\u001b[39m], index \u001b[38;5;241m=\u001b[39m [\u001b[38;5;124m\"\u001b[39m\u001b[38;5;124ma\u001b[39m\u001b[38;5;124m\"\u001b[39m, \u001b[38;5;124m\"\u001b[39m\u001b[38;5;124mb\u001b[39m\u001b[38;5;124m\"\u001b[39m, \u001b[38;5;124m\"\u001b[39m\u001b[38;5;124mc\u001b[39m\u001b[38;5;124m\"\u001b[39m, \u001b[38;5;124m\"\u001b[39m\u001b[38;5;124md\u001b[39m\u001b[38;5;124m\"\u001b[39m, \u001b[38;5;124m\"\u001b[39m\u001b[38;5;124me\u001b[39m\u001b[38;5;124m\"\u001b[39m])\n\u001b[0;32m      3\u001b[0m \u001b[38;5;28mprint\u001b[39m(\u001b[38;5;124mf\u001b[39m\u001b[38;5;124m\"\u001b[39m\u001b[38;5;124mExample of customizing series index:\u001b[39m\u001b[38;5;130;01m\\n\u001b[39;00m\u001b[38;5;132;01m{\u001b[39;00ma\u001b[38;5;132;01m}\u001b[39;00m\u001b[38;5;130;01m\\n\u001b[39;00m\u001b[38;5;124m\"\u001b[39m)\n",
      "File \u001b[1;32m~\\anaconda3\\Lib\\site-packages\\pandas\\core\\series.py:575\u001b[0m, in \u001b[0;36mSeries.__init__\u001b[1;34m(self, data, index, dtype, name, copy, fastpath)\u001b[0m\n\u001b[0;32m    573\u001b[0m     index \u001b[38;5;241m=\u001b[39m default_index(\u001b[38;5;28mlen\u001b[39m(data))\n\u001b[0;32m    574\u001b[0m \u001b[38;5;28;01melif\u001b[39;00m is_list_like(data):\n\u001b[1;32m--> 575\u001b[0m     com\u001b[38;5;241m.\u001b[39mrequire_length_match(data, index)\n\u001b[0;32m    577\u001b[0m \u001b[38;5;66;03m# create/copy the manager\u001b[39;00m\n\u001b[0;32m    578\u001b[0m \u001b[38;5;28;01mif\u001b[39;00m \u001b[38;5;28misinstance\u001b[39m(data, (SingleBlockManager, SingleArrayManager)):\n",
      "File \u001b[1;32m~\\anaconda3\\Lib\\site-packages\\pandas\\core\\common.py:573\u001b[0m, in \u001b[0;36mrequire_length_match\u001b[1;34m(data, index)\u001b[0m\n\u001b[0;32m    569\u001b[0m \u001b[38;5;250m\u001b[39m\u001b[38;5;124;03m\"\"\"\u001b[39;00m\n\u001b[0;32m    570\u001b[0m \u001b[38;5;124;03mCheck the length of data matches the length of the index.\u001b[39;00m\n\u001b[0;32m    571\u001b[0m \u001b[38;5;124;03m\"\"\"\u001b[39;00m\n\u001b[0;32m    572\u001b[0m \u001b[38;5;28;01mif\u001b[39;00m \u001b[38;5;28mlen\u001b[39m(data) \u001b[38;5;241m!=\u001b[39m \u001b[38;5;28mlen\u001b[39m(index):\n\u001b[1;32m--> 573\u001b[0m     \u001b[38;5;28;01mraise\u001b[39;00m \u001b[38;5;167;01mValueError\u001b[39;00m(\n\u001b[0;32m    574\u001b[0m         \u001b[38;5;124m\"\u001b[39m\u001b[38;5;124mLength of values \u001b[39m\u001b[38;5;124m\"\u001b[39m\n\u001b[0;32m    575\u001b[0m         \u001b[38;5;124mf\u001b[39m\u001b[38;5;124m\"\u001b[39m\u001b[38;5;124m(\u001b[39m\u001b[38;5;132;01m{\u001b[39;00m\u001b[38;5;28mlen\u001b[39m(data)\u001b[38;5;132;01m}\u001b[39;00m\u001b[38;5;124m) \u001b[39m\u001b[38;5;124m\"\u001b[39m\n\u001b[0;32m    576\u001b[0m         \u001b[38;5;124m\"\u001b[39m\u001b[38;5;124mdoes not match length of index \u001b[39m\u001b[38;5;124m\"\u001b[39m\n\u001b[0;32m    577\u001b[0m         \u001b[38;5;124mf\u001b[39m\u001b[38;5;124m\"\u001b[39m\u001b[38;5;124m(\u001b[39m\u001b[38;5;132;01m{\u001b[39;00m\u001b[38;5;28mlen\u001b[39m(index)\u001b[38;5;132;01m}\u001b[39;00m\u001b[38;5;124m)\u001b[39m\u001b[38;5;124m\"\u001b[39m\n\u001b[0;32m    578\u001b[0m     )\n",
      "\u001b[1;31mValueError\u001b[0m: Length of values (4) does not match length of index (5)"
     ]
    }
   ],
   "source": [
    "from pandas import Series as series\n",
    "a = series([1, \"Hello\", False, 3.33], index = [\"a\", \"b\", \"c\", \"d\", \"e\"])\n",
    "print(f\"Example of customizing series index:\\n{a}\\n\")"
   ]
  },
  {
   "cell_type": "markdown",
   "id": "73b25d68-2f41-48cd-b4a5-7c1b83d448ab",
   "metadata": {},
   "source": [
    "# DataFrame\n",
    "- DataFrame is a 2D mutable and heterogenous tabular-form data structure with the labeled axes\n",
    "- Common way to generate the DataFrame is by using the dictionary, with values of each keys being a list of same length and greater than one\n",
    "- For example:"
   ]
  },
  {
   "cell_type": "code",
   "execution_count": null,
   "id": "b5b0b3b2-3d58-4852-a74b-502c6821ef82",
   "metadata": {},
   "outputs": [],
   "source": [
    "from pandas import DataFrame as df\n",
    "obj = {\n",
    "    \"name\": [\"R. Sharma\", \"S. Dhawan\", \"V. Kohli\"],\n",
    "    \"role\": [\"Batsman\", \"Batsman\", \"Batsman\"],\n",
    "    \"team\": [\"MI\", \"PBKS\", \"RCB\"]\n",
    "}\n",
    "table = df(obj)\n",
    "print(table)"
   ]
  },
  {
   "cell_type": "markdown",
   "id": "2b57dbbf-678e-48eb-a3a1-f03caf28990a",
   "metadata": {},
   "source": [
    "- And as you can see, how is it pretty-printed\n",
    "## Customizing order of columns\n",
    "- Like index of series can be customized, the order of the columns in the dataframe can also be customized\n",
    "- The keyword arguement `columns` is used to customize the order of the columns in the dataframe\n",
    "- It is the list of keys of the object, but in the order, you want to view it.\n",
    "- It can be optionally passed when creating the dataframe.\n",
    "- Here is the example:"
   ]
  },
  {
   "cell_type": "code",
   "execution_count": null,
   "id": "8ec0ca5a-76fc-4e44-a061-2e1104753527",
   "metadata": {},
   "outputs": [],
   "source": [
    "from pandas import DataFrame as df\n",
    "obj = {\n",
    "    \"name\": [\"R. Sharma\", \"S. Dhawan\", \"V. Kohli\"],\n",
    "    \"role\": [\"Batsman\", \"Batsman\", \"Batsman\"],\n",
    "    \"team\": [\"MI\", \"PBKS\", \"RCB\"]\n",
    "}\n",
    "table = df(obj, columns = [\"team\", \"name\", \"role\"])\n",
    "print(table)"
   ]
  },
  {
   "cell_type": "markdown",
   "id": "cf627450-e828-4fc2-8d80-0ac023a7ece4",
   "metadata": {},
   "source": [
    "- Here, in columns list, if you passes the key's name which is not there available in the object sent to DataFrame for creating the table, then you will see all the values of the column with that key shown in the table as `NaN`, again.\n",
    "- Look at example below"
   ]
  },
  {
   "cell_type": "code",
   "execution_count": null,
   "id": "974c4739-bb96-4a39-acf4-95fe9cec5130",
   "metadata": {},
   "outputs": [],
   "source": [
    "from pandas import DataFrame as df\n",
    "obj = {\n",
    "    \"name\": [\"R. Sharma\", \"S. Dhawan\", \"V. Kohli\"],\n",
    "    \"role\": [\"Batsman\", \"Batsman\", \"Batsman\"],\n",
    "    \"team\": [\"MI\", \"PBKS\", \"RCB\"]\n",
    "}\n",
    "table = df(obj, columns = [\"name\", \"role\", \"team\", \"totalRuns\"])\n",
    "print(table)"
   ]
  },
  {
   "cell_type": "markdown",
   "id": "2fc0c1c7-ade8-4ee1-b88d-36e54790b41c",
   "metadata": {},
   "source": [
    "## Customizing index of DataFrame\n",
    "- Like Series, the indexing values of the DataFrame can also be customized, in the way similar to that how the indexing of the Series was customizable.\n",
    "- Example:"
   ]
  },
  {
   "cell_type": "code",
   "execution_count": null,
   "id": "7ceee1a0-faff-421c-9c37-b02a8f36f809",
   "metadata": {},
   "outputs": [],
   "source": [
    "from pandas import DataFrame as df\n",
    "obj = {\n",
    "    \"name\": [\"R. Sharma\", \"S. Dhawan\", \"V. Kohli\"],\n",
    "    \"role\": [\"Batsman\", \"Batsman\", \"Batsman\"],\n",
    "    \"team\": [\"MI\", \"PBKS\", \"RCB\"]\n",
    "}\n",
    "table = df(obj, index = [1, 2, 3])\n",
    "print(table)"
   ]
  },
  {
   "cell_type": "markdown",
   "id": "d14a4a68-9a0c-4723-a99e-54630665e500",
   "metadata": {},
   "source": [
    "## Accessing columns\n",
    "- Like dictionary, the columns in a dataframe can be accessed by the dictionary-like syntax\n",
    "- The syntax followed for accessing columns seperately is:\n",
    "1. `dict.key`\n",
    "- This attribute-like value-accesing syntax can only work, if the particular key has no space.\n",
    "- It fails if there is space in the name of the key\n",
    "2. `dict[key]`\n",
    "- This method is helpful for accessing any type of keys, irrespective of whether the key has or not the space in its name, this method will get you the values of the keys retrieved successfully if the key exists"
   ]
  },
  {
   "cell_type": "code",
   "execution_count": null,
   "id": "26293a06-dd98-496f-baf9-c8738f6ab06e",
   "metadata": {},
   "outputs": [],
   "source": [
    "from pandas import DataFrame as df\n",
    "obj = {\n",
    "    \"name\": [\"R. Sharma\", \"S. Dhawan\", \"V. Kohli\"],\n",
    "    \"role\": [\"Batsman\", \"Batsman\", \"Batsman\"],\n",
    "    \"team\": [\"MI\", \"PBKS\", \"RCB\"]\n",
    "}\n",
    "table = df(obj, index = [1, 2, 3])\n",
    "col = table.name\n",
    "print(f\"Names of the players are:\\n{col}\\n\")"
   ]
  },
  {
   "cell_type": "markdown",
   "id": "985f3295-c06e-4d64-ac3b-312d31f0cb17",
   "metadata": {},
   "source": [
    "## Accessing column's names\n",
    "- Accessing the names of all the existing colummns in a DataFrame is possible via the `columns` attribute of the dataframe\n",
    "- For example"
   ]
  },
  {
   "cell_type": "code",
   "execution_count": null,
   "id": "37d190a5-5c11-4a66-92f1-58e36453303a",
   "metadata": {},
   "outputs": [],
   "source": [
    "from pandas import DataFrame as df\n",
    "obj = {\n",
    "    \"name\": [\"R. Sharma\", \"S. Dhawan\", \"V. Kohli\"],\n",
    "    \"role\": [\"Batsman\", \"Batsman\", \"Batsman\"],\n",
    "    \"team\": [\"MI\", \"PBKS\", \"RCB\"]\n",
    "}\n",
    "table = df(obj, index = [1, 2, 3])\n",
    "head = table.columns\n",
    "print(f\"Column names of the table are:\\n{head}\")"
   ]
  },
  {
   "cell_type": "markdown",
   "id": "64d8a008-4dfe-4d3b-8b63-8d0e7f1d5680",
   "metadata": {},
   "source": [
    "## Accessing rows\n",
    "- The columns of the dataframe can also be accessed using the `loc[]` attribute of the dataframes."
   ]
  },
  {
   "cell_type": "code",
   "execution_count": null,
   "id": "c0d8661d-491f-401d-9813-d8b9ea6bab8c",
   "metadata": {},
   "outputs": [],
   "source": [
    "from pandas import DataFrame as df\n",
    "obj = {\n",
    "    \"name\": [\"R. Sharma\", \"S. Dhawan\", \"V. Kohli\"],\n",
    "    \"role\": [\"Batsman\", \"Batsman\", \"Batsman\"],\n",
    "    \"team\": [\"MI\", \"PBKS\", \"RCB\"]\n",
    "}\n",
    "table = df(obj, index = [1, 2, 3])\n",
    "row = table.loc[3]\n",
    "print(f\"Information of king:\\n{row}\")"
   ]
  },
  {
   "cell_type": "markdown",
   "id": "8225a232-5f3a-485e-9177-db64d7cc786c",
   "metadata": {},
   "source": [
    "## Creating new columns\n",
    "- The new columns can be created easily by the same ditionary-like syntax, in any existing DataFrame\n",
    "- The value of it can either be single or an array\n",
    "- If the value passed is array with length not matching the length of the lists, it will again throw the error\n",
    "- If the value passed is single, then it is automatically expanded.\n",
    "- For example, see below ot get more clear idea of what I am trying to convey:"
   ]
  },
  {
   "cell_type": "code",
   "execution_count": null,
   "id": "9bc49b35-acf7-4a1e-bed0-d42b852efb4d",
   "metadata": {},
   "outputs": [],
   "source": [
    "from pandas import DataFrame as df\n",
    "obj = {\n",
    "    \"name\": [\"R. Sharma\", \"S. Dhawan\", \"V. Kohli\"],\n",
    "    \"role\": [\"Batsman\", \"Batsman\", \"Batsman\"],\n",
    "    \"team\": [\"MI\", \"PBKS\", \"RCB\"]\n",
    "}\n",
    "table = df(obj, index = [1, 2, 3])\n",
    "\n",
    "# 1 Value as value of column\n",
    "table[\"runs\"] = \"10000+\"\n",
    "print(f\"Table showing common total runs between 3 batters:\\n{table}\\n\")\n",
    "\n",
    "# array as value of column\n",
    "table[\"runs\"] = [19700, 10867, 27599]\n",
    "print(f\"Table showing the specific runs of each batter:\\n{table}\")"
   ]
  },
  {
   "cell_type": "markdown",
   "id": "448f34cc-ab04-4882-a094-63576dd503d9",
   "metadata": {},
   "source": [
    "## Deleting columns\n",
    "- The columns existing in the table can be deleted by the help of the keyword `del`, like similar to that of the dictionary"
   ]
  },
  {
   "cell_type": "code",
   "execution_count": null,
   "id": "fa32b56b-251e-4577-adfb-fa7eb0218f8b",
   "metadata": {},
   "outputs": [],
   "source": [
    "from pandas import DataFrame as df\n",
    "obj = {\n",
    "    \"name\": [\"R. Sharma\", \"S. Dhawan\", \"V. Kohli\"],\n",
    "    \"role\": [\"Batsman\", \"Batsman\", \"Batsman\"],\n",
    "    \"team\": [\"MI\", \"PBKS\", \"RCB\"]\n",
    "}\n",
    "table = df(obj, index = [1, 2, 3])\n",
    "\n",
    "# Before deleting a column\n",
    "print(f\"Table before deleting a column:\\n{table}\\n\")\n",
    "\n",
    "# Deleting the \"team\"'s column\n",
    "del table[\"team\"]\n",
    "\n",
    "# After deleting the team's column, table\n",
    "print(f\"Table after deleting the 'team' column:\\n{table}\")"
   ]
  },
  {
   "cell_type": "markdown",
   "id": "ed4512fc-2543-4493-9dee-e00e539ce1ad",
   "metadata": {},
   "source": [
    "## Transposing DataFrame\n",
    "- Like NumPy's arrays, transposing can also be done on the DataFrame of Pandas\n",
    "- The same attribute `T` is used for the purpose\n",
    "- For an example:"
   ]
  },
  {
   "cell_type": "code",
   "execution_count": 19,
   "id": "9195a438-40f8-4e68-b56b-d1f0ea460145",
   "metadata": {},
   "outputs": [
    {
     "name": "stdout",
     "output_type": "stream",
     "text": [
      "Normal table is:\n",
      "        name     role  team\n",
      "1  R. Sharma  Batsman    MI\n",
      "2  S. Dhawan  Batsman  PBKS\n",
      "3   V. Kohli  Batsman   RCB\n",
      "\n",
      "Transposing the table gives:\n",
      "              1          2         3\n",
      "name  R. Sharma  S. Dhawan  V. Kohli\n",
      "role    Batsman    Batsman   Batsman\n",
      "team         MI       PBKS       RCB\n"
     ]
    }
   ],
   "source": [
    "from pandas import DataFrame as df\n",
    "obj = {\n",
    "    \"name\": [\"R. Sharma\", \"S. Dhawan\", \"V. Kohli\"],\n",
    "    \"role\": [\"Batsman\", \"Batsman\", \"Batsman\"],\n",
    "    \"team\": [\"MI\", \"PBKS\", \"RCB\"]\n",
    "}\n",
    "table = df(obj, index = [1, 2, 3])\n",
    "\n",
    "# Normal table\n",
    "print(f\"Normal table is:\\n{table}\\n\")\n",
    "\n",
    "# Transposing the table\n",
    "tp = table.T\n",
    "print(f\"Transposing the table gives:\\n{tp}\")"
   ]
  },
  {
   "cell_type": "markdown",
   "id": "aa5f6fdc-0258-4d68-b8a5-4bcb929b139f",
   "metadata": {},
   "source": [
    "## Re-indexing\n",
    "- In Pandas, the objects can be reindexed by using the `reindex` attribute either on Series or DataFrame\n",
    "- Reindexing will change the indexes of the existing DataFrame, hence, if there is nothing pre-existing on that index, it will show the `NaN` there in the new formed object.\n",
    "- A code example is given below:"
   ]
  },
  {
   "cell_type": "code",
   "execution_count": 20,
   "id": "fbe2eef0-fb84-4f69-983b-f4e18801652e",
   "metadata": {},
   "outputs": [
    {
     "name": "stdout",
     "output_type": "stream",
     "text": [
      "Before reindexing:\n",
      "        name     role  team\n",
      "1  R. Sharma  Batsman    MI\n",
      "2  S. Dhawan  Batsman  PBKS\n",
      "3   V. Kohli  Batsman   RCB\n",
      "\n",
      "After reindexing:\n",
      "  name role team\n",
      "a  NaN  NaN  NaN\n",
      "b  NaN  NaN  NaN\n",
      "c  NaN  NaN  NaN\n"
     ]
    }
   ],
   "source": [
    "from pandas import DataFrame as df\n",
    "obj = {\n",
    "    \"name\": [\"R. Sharma\", \"S. Dhawan\", \"V. Kohli\"],\n",
    "    \"role\": [\"Batsman\", \"Batsman\", \"Batsman\"],\n",
    "    \"team\": [\"MI\", \"PBKS\", \"RCB\"]\n",
    "}\n",
    "table = df(obj, index = [1, 2, 3])\n",
    "\n",
    "# Before reindexing\n",
    "print(f\"Before reindexing:\\n{table}\\n\")\n",
    "\n",
    "# Reindexing\n",
    "rI = table.reindex([\"a\", \"b\", \"c\"])\n",
    "\n",
    "# After reindexing\n",
    "print(f\"After reindexing:\\n{rI}\")"
   ]
  },
  {
   "cell_type": "code",
   "execution_count": null,
   "id": "16b8068c-ed78-4fc4-909d-2fa2228b56d5",
   "metadata": {},
   "outputs": [],
   "source": []
  }
 ],
 "metadata": {
  "kernelspec": {
   "display_name": "Python 3 (ipykernel)",
   "language": "python",
   "name": "python3"
  },
  "language_info": {
   "codemirror_mode": {
    "name": "ipython",
    "version": 3
   },
   "file_extension": ".py",
   "mimetype": "text/x-python",
   "name": "python",
   "nbconvert_exporter": "python",
   "pygments_lexer": "ipython3",
   "version": "3.12.7"
  }
 },
 "nbformat": 4,
 "nbformat_minor": 5
}
