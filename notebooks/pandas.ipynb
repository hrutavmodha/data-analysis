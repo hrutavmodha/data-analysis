{
 "cells": [
  {
   "cell_type": "markdown",
   "id": "312c95b0-ffd5-45dd-8c8f-714be0dc31df",
   "metadata": {},
   "source": [
    "# Pandas\n",
    "- Pandas is a fast, powerful, flexible and an easy-to-use open-source data analysis tool built on the top of the Python and NumPy\n",
    "- It provides 2 data structures primarily\n",
    "\n",
    "**1. Series:**\n",
    "- Series is a 1-D array, which is labeled along with its index.\n",
    "- Unlike the traditional array and list, it is pretty-printed as the cells of the tables\n",
    "- The key difference between a series and an array or a list is that the indexing data-type of the series can be modified by the user, while this is not true for lists and arrays\n",
    "- Notably, not only out of list, but Series can also be created by passing the Python's built-in dictionary.\n",
    "- In case of a dictionary being the Series, the keys are taken as index\n",
    "\n",
    "**2. DataFrame:**\n",
    "- DataFrame is another data structure provided by Pandas.\n",
    "- It is a 2-D representation of the labeled data, from table\n",
    "# Features of Pandas\n",
    "- Pandas easily handles the missing values, showing `NA` or `NaN` for the values which are not defined\n",
    "- It provides powerful functions to classify the data in groups and also aggregate it\n",
    "- Pandas supports reading and writing the data from various formats which includes:\n",
    "    1. CSV\n",
    "    2. JSON\n",
    "    3. Excel\n",
    "    4. SQL\n",
    "    5. And many more...\n",
    "- Pandas has built-in support for time-series\n",
    "- Pandas, when combined with NumPy and MatPlotLib, can serve the purpose of data manipulation and data analysis very well\n",
    "- Let's get started with coding Pandas and its topics:\n",
    "# Series\n",
    "- Series can be created either by passing list, tuple and set or dictionary\n",
    "## List, tuple and set as series\n",
    "- If a series is created using list, tuple or set, the indexing is automatically assigned as normally.\n",
    "- Indexing values can be cutomized.\n",
    "## Dictionary as series\n",
    "- In the case of a dictionary as a series, the keys of the dictionary are taken in use as the indexes.\n",
    "- Indexing can be customized and if attempted to customize, it will show the `NaN` value because the index values passed through have no value."
   ]
  },
  {
   "cell_type": "code",
   "execution_count": 41,
   "id": "e8e11850-9cde-46cf-bca0-71b8ea744228",
   "metadata": {},
   "outputs": [
    {
     "name": "stdout",
     "output_type": "stream",
     "text": [
      "Series from a list:\n",
      "0        1\n",
      "1     True\n",
      "2    Hello\n",
      "3     3.14\n",
      "dtype: object\n",
      "\n",
      "Series from a dictionary:\n",
      "name           Chiku\n",
      "role         Batsman\n",
      "totalRuns      27599\n",
      "dtype: object\n",
      "\n",
      "Series with tweaked indexes:\n",
      "1    NaN\n",
      "2    NaN\n",
      "3    NaN\n",
      "dtype: object\n"
     ]
    }
   ],
   "source": [
    "# import Series as series from \"pandas\"\n",
    "from pandas import Series as series\n",
    "\n",
    "# Series from a list\n",
    "a = series([1, True, \"Hello\", 3.14])\n",
    "print(f\"Series from a list:\\n{a}\\n\")\n",
    "\n",
    "# Series from a dictionary\n",
    "b = series({\n",
    "    \"name\": \"Chiku\",\n",
    "    \"role\": \"Batsman\",\n",
    "    \"totalRuns\": 27599\n",
    "})\n",
    "print(f\"Series from a dictionary:\\n{b}\\n\")\n",
    "\n",
    "# Series from a dictionary, attempting to tweak index\n",
    "c = series({\n",
    "    \"name\": \"Vadapav\",\n",
    "    \"role\": \"Batsman\",\n",
    "    \"totalRuns\": 19700 \n",
    "}, index = [1, 2, 3])\n",
    "print(f\"Series with tweaked indexes:\\n{c}\")"
   ]
  },
  {
   "cell_type": "markdown",
   "id": "a62cc709-19b2-4d00-862d-c5688b5466b2",
   "metadata": {},
   "source": [
    "## Accessing index and values of the series\n",
    "1. **Values**\n",
    "- Values of a series can be accessed by using the attribute `value` of the series \n",
    "2. **Index**\n",
    "- Index of the series can be accessed by using the attribute `index` of the series "
   ]
  },
  {
   "cell_type": "code",
   "execution_count": 42,
   "id": "e5bf5d8a-0635-4683-8ea5-74c890e23c6f",
   "metadata": {},
   "outputs": [
    {
     "name": "stdout",
     "output_type": "stream",
     "text": [
      "Generated series:\n",
      "0        1\n",
      "1       Hi\n",
      "2    False\n",
      "3     3.33\n",
      "dtype: object\n",
      "\n",
      "Values of the series are:\n",
      "[1 'Hi' False 3.33]\n",
      "\n",
      "Indexes of the series are:\n",
      "RangeIndex(start=0, stop=4, step=1)\n"
     ]
    }
   ],
   "source": [
    "from pandas import Series as series\n",
    "a = series([1, \"Hi\", False, 3.33])\n",
    "print(f\"Generated series:\\n{a}\\n\")\n",
    "\n",
    "# Accessing values\n",
    "b = a.values\n",
    "print(f\"Values of the series are:\\n{b}\\n\")\n",
    "\n",
    "# Accessing indexes\n",
    "c = a.index\n",
    "print(f\"Indexes of the series are:\\n{c}\")"
   ]
  },
  {
   "cell_type": "markdown",
   "id": "dd56bdc9",
   "metadata": {},
   "source": [
    "## Customizing index of Series\n",
    "- Customizing the index of the series is a feature, which in my sense makes a series different than an array or list.\n",
    "- You can pass the `index` arguement while creating the series, if you want to customize the indexing of the series\n",
    "- If it is not passed that argue, then the series will nbe indexed normally, like that in for a list or an array "
   ]
  },
  {
   "cell_type": "code",
   "execution_count": 43,
   "id": "f5e5fd60",
   "metadata": {},
   "outputs": [
    {
     "name": "stdout",
     "output_type": "stream",
     "text": [
      "Example of customizing series index:\n",
      "a        1\n",
      "b    Hello\n",
      "c    False\n",
      "d     3.33\n",
      "dtype: object\n",
      "\n"
     ]
    }
   ],
   "source": [
    "from pandas import Series as series\n",
    "a = series([1, \"Hello\", False, 3.33], index = [\"a\", \"b\", \"c\", \"d\"])\n",
    "print(f\"Example of customizing series index:\\n{a}\\n\")"
   ]
  },
  {
   "cell_type": "markdown",
   "id": "9e8b887a-7ce6-4465-8004-1af03d2566cd",
   "metadata": {},
   "source": [
    "- Here, if you passes the index elements more or less in number than the length of the series, then, it throws the error.\n",
    "- For example, look below:"
   ]
  },
  {
   "cell_type": "code",
   "execution_count": 44,
   "id": "240b1c82-ce93-4e71-9e06-72fb49595d33",
   "metadata": {},
   "outputs": [
    {
     "ename": "ValueError",
     "evalue": "Length of values (4) does not match length of index (5)",
     "output_type": "error",
     "traceback": [
      "\u001b[1;31m---------------------------------------------------------------------------\u001b[0m",
      "\u001b[1;31mValueError\u001b[0m                                Traceback (most recent call last)",
      "Cell \u001b[1;32mIn[44], line 2\u001b[0m\n\u001b[0;32m      1\u001b[0m \u001b[38;5;28;01mfrom\u001b[39;00m \u001b[38;5;21;01mpandas\u001b[39;00m \u001b[38;5;28;01mimport\u001b[39;00m Series \u001b[38;5;28;01mas\u001b[39;00m series\n\u001b[1;32m----> 2\u001b[0m a \u001b[38;5;241m=\u001b[39m series([\u001b[38;5;241m1\u001b[39m, \u001b[38;5;124m\"\u001b[39m\u001b[38;5;124mHello\u001b[39m\u001b[38;5;124m\"\u001b[39m, \u001b[38;5;28;01mFalse\u001b[39;00m, \u001b[38;5;241m3.33\u001b[39m], index \u001b[38;5;241m=\u001b[39m [\u001b[38;5;124m\"\u001b[39m\u001b[38;5;124ma\u001b[39m\u001b[38;5;124m\"\u001b[39m, \u001b[38;5;124m\"\u001b[39m\u001b[38;5;124mb\u001b[39m\u001b[38;5;124m\"\u001b[39m, \u001b[38;5;124m\"\u001b[39m\u001b[38;5;124mc\u001b[39m\u001b[38;5;124m\"\u001b[39m, \u001b[38;5;124m\"\u001b[39m\u001b[38;5;124md\u001b[39m\u001b[38;5;124m\"\u001b[39m, \u001b[38;5;124m\"\u001b[39m\u001b[38;5;124me\u001b[39m\u001b[38;5;124m\"\u001b[39m])\n\u001b[0;32m      3\u001b[0m \u001b[38;5;28mprint\u001b[39m(\u001b[38;5;124mf\u001b[39m\u001b[38;5;124m\"\u001b[39m\u001b[38;5;124mExample of customizing series index:\u001b[39m\u001b[38;5;130;01m\\n\u001b[39;00m\u001b[38;5;132;01m{\u001b[39;00ma\u001b[38;5;132;01m}\u001b[39;00m\u001b[38;5;130;01m\\n\u001b[39;00m\u001b[38;5;124m\"\u001b[39m)\n",
      "File \u001b[1;32m~\\anaconda3\\Lib\\site-packages\\pandas\\core\\series.py:575\u001b[0m, in \u001b[0;36mSeries.__init__\u001b[1;34m(self, data, index, dtype, name, copy, fastpath)\u001b[0m\n\u001b[0;32m    573\u001b[0m     index \u001b[38;5;241m=\u001b[39m default_index(\u001b[38;5;28mlen\u001b[39m(data))\n\u001b[0;32m    574\u001b[0m \u001b[38;5;28;01melif\u001b[39;00m is_list_like(data):\n\u001b[1;32m--> 575\u001b[0m     com\u001b[38;5;241m.\u001b[39mrequire_length_match(data, index)\n\u001b[0;32m    577\u001b[0m \u001b[38;5;66;03m# create/copy the manager\u001b[39;00m\n\u001b[0;32m    578\u001b[0m \u001b[38;5;28;01mif\u001b[39;00m \u001b[38;5;28misinstance\u001b[39m(data, (SingleBlockManager, SingleArrayManager)):\n",
      "File \u001b[1;32m~\\anaconda3\\Lib\\site-packages\\pandas\\core\\common.py:573\u001b[0m, in \u001b[0;36mrequire_length_match\u001b[1;34m(data, index)\u001b[0m\n\u001b[0;32m    569\u001b[0m \u001b[38;5;250m\u001b[39m\u001b[38;5;124;03m\"\"\"\u001b[39;00m\n\u001b[0;32m    570\u001b[0m \u001b[38;5;124;03mCheck the length of data matches the length of the index.\u001b[39;00m\n\u001b[0;32m    571\u001b[0m \u001b[38;5;124;03m\"\"\"\u001b[39;00m\n\u001b[0;32m    572\u001b[0m \u001b[38;5;28;01mif\u001b[39;00m \u001b[38;5;28mlen\u001b[39m(data) \u001b[38;5;241m!=\u001b[39m \u001b[38;5;28mlen\u001b[39m(index):\n\u001b[1;32m--> 573\u001b[0m     \u001b[38;5;28;01mraise\u001b[39;00m \u001b[38;5;167;01mValueError\u001b[39;00m(\n\u001b[0;32m    574\u001b[0m         \u001b[38;5;124m\"\u001b[39m\u001b[38;5;124mLength of values \u001b[39m\u001b[38;5;124m\"\u001b[39m\n\u001b[0;32m    575\u001b[0m         \u001b[38;5;124mf\u001b[39m\u001b[38;5;124m\"\u001b[39m\u001b[38;5;124m(\u001b[39m\u001b[38;5;132;01m{\u001b[39;00m\u001b[38;5;28mlen\u001b[39m(data)\u001b[38;5;132;01m}\u001b[39;00m\u001b[38;5;124m) \u001b[39m\u001b[38;5;124m\"\u001b[39m\n\u001b[0;32m    576\u001b[0m         \u001b[38;5;124m\"\u001b[39m\u001b[38;5;124mdoes not match length of index \u001b[39m\u001b[38;5;124m\"\u001b[39m\n\u001b[0;32m    577\u001b[0m         \u001b[38;5;124mf\u001b[39m\u001b[38;5;124m\"\u001b[39m\u001b[38;5;124m(\u001b[39m\u001b[38;5;132;01m{\u001b[39;00m\u001b[38;5;28mlen\u001b[39m(index)\u001b[38;5;132;01m}\u001b[39;00m\u001b[38;5;124m)\u001b[39m\u001b[38;5;124m\"\u001b[39m\n\u001b[0;32m    578\u001b[0m     )\n",
      "\u001b[1;31mValueError\u001b[0m: Length of values (4) does not match length of index (5)"
     ]
    }
   ],
   "source": [
    "from pandas import Series as series\n",
    "a = series([1, \"Hello\", False, 3.33], index = [\"a\", \"b\", \"c\", \"d\", \"e\"])\n",
    "print(f\"Example of customizing series index:\\n{a}\\n\")"
   ]
  },
  {
   "cell_type": "markdown",
   "id": "73b25d68-2f41-48cd-b4a5-7c1b83d448ab",
   "metadata": {},
   "source": [
    "# DataFrame\n",
    "- DataFrame is a 2D mutable and heterogenous tabular-form data structure with the labeled axes\n",
    "- Common way to generate the DataFrame is by using the dictionary, with values of each keys being a list of same length and greater than one\n",
    "- For example:"
   ]
  },
  {
   "cell_type": "code",
   "execution_count": 58,
   "id": "b5b0b3b2-3d58-4852-a74b-502c6821ef82",
   "metadata": {},
   "outputs": [
    {
     "name": "stdout",
     "output_type": "stream",
     "text": [
      "        name     role  team\n",
      "0  R. Sharma  Batsman    MI\n",
      "1  S. Dhawan  Batsman  PBKS\n",
      "2   V. Kohli  Batsman   RCB\n"
     ]
    }
   ],
   "source": [
    "from pandas import DataFrame as df\n",
    "obj = {\n",
    "    \"name\": [\"R. Sharma\", \"S. Dhawan\", \"V. Kohli\"],\n",
    "    \"role\": [\"Batsman\", \"Batsman\", \"Batsman\"],\n",
    "    \"team\": [\"MI\", \"PBKS\", \"RCB\"]\n",
    "}\n",
    "table = df(obj)\n",
    "print(table)"
   ]
  },
  {
   "cell_type": "markdown",
   "id": "2b57dbbf-678e-48eb-a3a1-f03caf28990a",
   "metadata": {},
   "source": [
    "- And as you can see, how is it pretty-printed\n",
    "## Customizing order of columns\n",
    "- Like index of series can be customized, the order of the columns in the dataframe can also be customized\n",
    "- The keyword arguement `columns` is used to customize the order of the columns in the dataframe\n",
    "- It is the list of keys of the object, but in the order, you want to view it.\n",
    "- It can be optionally passed when creating the dataframe.\n",
    "- Here is the example:"
   ]
  },
  {
   "cell_type": "code",
   "execution_count": 57,
   "id": "8ec0ca5a-76fc-4e44-a061-2e1104753527",
   "metadata": {},
   "outputs": [
    {
     "name": "stdout",
     "output_type": "stream",
     "text": [
      "   team       name     role\n",
      "0    MI  R. Sharma  Batsman\n",
      "1  PBKS  S. Dhawan  Batsman\n",
      "2   RCB   V. Kohli  Batsman\n"
     ]
    }
   ],
   "source": [
    "from pandas import DataFrame as df\n",
    "obj = {\n",
    "    \"name\": [\"R. Sharma\", \"S. Dhawan\", \"V. Kohli\"],\n",
    "    \"role\": [\"Batsman\", \"Batsman\", \"Batsman\"],\n",
    "    \"team\": [\"MI\", \"PBKS\", \"RCB\"]\n",
    "}\n",
    "table = df(obj, columns = [\"team\", \"name\", \"role\"])\n",
    "print(table)"
   ]
  },
  {
   "cell_type": "markdown",
   "id": "cf627450-e828-4fc2-8d80-0ac023a7ece4",
   "metadata": {},
   "source": [
    "- Here, in columns list, if you passes the key's name which is not there available in the object sent to DataFrame for creating the table, then you will see all the values of the column with that key shown in the table as `NaN`, again.\n",
    "- Look at example below"
   ]
  },
  {
   "cell_type": "code",
   "execution_count": 56,
   "id": "974c4739-bb96-4a39-acf4-95fe9cec5130",
   "metadata": {},
   "outputs": [
    {
     "name": "stdout",
     "output_type": "stream",
     "text": [
      "        name     role  team totalRuns\n",
      "0  R. Sharma  Batsman    MI       NaN\n",
      "1  S. Dhawan  Batsman  PBKS       NaN\n",
      "2   V. Kohli  Batsman   RCB       NaN\n"
     ]
    }
   ],
   "source": [
    "from pandas import DataFrame as df\n",
    "obj = {\n",
    "    \"name\": [\"R. Sharma\", \"S. Dhawan\", \"V. Kohli\"],\n",
    "    \"role\": [\"Batsman\", \"Batsman\", \"Batsman\"],\n",
    "    \"team\": [\"MI\", \"PBKS\", \"RCB\"]\n",
    "}\n",
    "table = df(obj, columns = [\"name\", \"role\", \"team\", \"totalRuns\"])\n",
    "print(table)"
   ]
  },
  {
   "cell_type": "markdown",
   "id": "2fc0c1c7-ade8-4ee1-b88d-36e54790b41c",
   "metadata": {},
   "source": [
    "## Customizing index of DataFrame\n",
    "- Like Series, the indexing values of the DataFrame can also be customized, in the way similar to that how the indexing of the Series was customizable.\n",
    "- Example:"
   ]
  },
  {
   "cell_type": "code",
   "execution_count": 55,
   "id": "7ceee1a0-faff-421c-9c37-b02a8f36f809",
   "metadata": {},
   "outputs": [
    {
     "name": "stdout",
     "output_type": "stream",
     "text": [
      "        name     role  team\n",
      "1  R. Sharma  Batsman    MI\n",
      "2  S. Dhawan  Batsman  PBKS\n",
      "3   V. Kohli  Batsman   RCB\n"
     ]
    }
   ],
   "source": [
    "from pandas import DataFrame as df\n",
    "obj = {\n",
    "    \"name\": [\"R. Sharma\", \"S. Dhawan\", \"V. Kohli\"],\n",
    "    \"role\": [\"Batsman\", \"Batsman\", \"Batsman\"],\n",
    "    \"team\": [\"MI\", \"PBKS\", \"RCB\"]\n",
    "}\n",
    "table = df(obj, index = [1, 2, 3])\n",
    "print(table)"
   ]
  },
  {
   "cell_type": "markdown",
   "id": "d14a4a68-9a0c-4723-a99e-54630665e500",
   "metadata": {},
   "source": [
    "## Accessing columns\n",
    "- Like dictionary, the columns in a dataframe can be accessed by the dictionary-like syntax\n",
    "- The syntax followed for accessing columns seperately is:\n",
    "1. `dict.key`\n",
    "- This attribute-like value-accesing syntax can only work, if the particular key has no space.\n",
    "- It fails if there is space in the name of the key\n",
    "2. `dict[key]`\n",
    "- This method is helpful for accessing any type of keys, irrespective of whether the key has or not the space in its name, this method will get you the values of the keys retrieved successfully if the key exists"
   ]
  },
  {
   "cell_type": "code",
   "execution_count": 53,
   "id": "26293a06-dd98-496f-baf9-c8738f6ab06e",
   "metadata": {},
   "outputs": [
    {
     "name": "stdout",
     "output_type": "stream",
     "text": [
      "Names of the players are:\n",
      "1    R. Sharma\n",
      "2    S. Dhawan\n",
      "3     V. Kohli\n",
      "Name: name, dtype: object\n",
      "\n"
     ]
    }
   ],
   "source": [
    "from pandas import DataFrame as df\n",
    "obj = {\n",
    "    \"name\": [\"R. Sharma\", \"S. Dhawan\", \"V. Kohli\"],\n",
    "    \"role\": [\"Batsman\", \"Batsman\", \"Batsman\"],\n",
    "    \"team\": [\"MI\", \"PBKS\", \"RCB\"]\n",
    "}\n",
    "table = df(obj, index = [1, 2, 3])\n",
    "col = table.name\n",
    "print(f\"Names of the players are:\\n{col}\\n\")"
   ]
  },
  {
   "cell_type": "markdown",
   "id": "985f3295-c06e-4d64-ac3b-312d31f0cb17",
   "metadata": {},
   "source": [
    "## Accessing column's names\n",
    "- Accessing the names of all the existing colummns in a DataFrame is possible via the `columns` attribute of the dataframe\n",
    "- For example"
   ]
  },
  {
   "cell_type": "code",
   "execution_count": 54,
   "id": "37d190a5-5c11-4a66-92f1-58e36453303a",
   "metadata": {},
   "outputs": [
    {
     "name": "stdout",
     "output_type": "stream",
     "text": [
      "Column names of the table are:\n",
      "Index(['name', 'role', 'team'], dtype='object')\n"
     ]
    }
   ],
   "source": [
    "from pandas import DataFrame as df\n",
    "obj = {\n",
    "    \"name\": [\"R. Sharma\", \"S. Dhawan\", \"V. Kohli\"],\n",
    "    \"role\": [\"Batsman\", \"Batsman\", \"Batsman\"],\n",
    "    \"team\": [\"MI\", \"PBKS\", \"RCB\"]\n",
    "}\n",
    "table = df(obj, index = [1, 2, 3])\n",
    "head = table.columns\n",
    "print(f\"Column names of the table are:\\n{head}\")"
   ]
  },
  {
   "cell_type": "markdown",
   "id": "64d8a008-4dfe-4d3b-8b63-8d0e7f1d5680",
   "metadata": {},
   "source": [
    "## Accessing rows\n",
    "**1. By `loc[]` method:**\n",
    "- The rows of the dataframe can be accessed using the `loc[]` attribute of the dataframes, by giving the index as the arguement"
   ]
  },
  {
   "cell_type": "code",
   "execution_count": 52,
   "id": "c0d8661d-491f-401d-9813-d8b9ea6bab8c",
   "metadata": {},
   "outputs": [
    {
     "name": "stdout",
     "output_type": "stream",
     "text": [
      "Information of king:\n",
      "name    V. Kohli\n",
      "role     Batsman\n",
      "team         RCB\n",
      "Name: 3, dtype: object\n"
     ]
    }
   ],
   "source": [
    "from pandas import DataFrame as df\n",
    "obj = {\n",
    "    \"name\": [\"R. Sharma\", \"S. Dhawan\", \"V. Kohli\"],\n",
    "    \"role\": [\"Batsman\", \"Batsman\", \"Batsman\"],\n",
    "    \"team\": [\"MI\", \"PBKS\", \"RCB\"]\n",
    "}\n",
    "table = df(obj, index = [1, 2, 3])\n",
    "row = table.loc[3]\n",
    "print(f\"Information of king:\\n{row}\")"
   ]
  },
  {
   "cell_type": "markdown",
   "id": "113902b2-4c39-4790-9522-657bda2bda1c",
   "metadata": {},
   "source": [
    "**2. By `iloc[]` method:**\n",
    "- The rows of the dataframe can also be accessed using `iloc[]` attribute.\n",
    "- The difference between the 2 methods is that, loc[] takes custom index as arguement for accessing, while iloc[] takes the original index as arguement for accessing.\n",
    "- Here, from **\"original\"**, it is meant the actual indexing way, which starts from 0 and goes upto n - 1 where n is the length of the data structure.\n",
    "- For example:"
   ]
  },
  {
   "cell_type": "code",
   "execution_count": 1,
   "id": "2fc764da-a089-4669-9409-3cd69b968104",
   "metadata": {},
   "outputs": [
    {
     "name": "stdout",
     "output_type": "stream",
     "text": [
      "Information about Shana:\n",
      "name    R. Sharma\n",
      "role      Batsman\n",
      "team           MI\n",
      "Name: 1, dtype: object\n"
     ]
    }
   ],
   "source": [
    "from pandas import DataFrame as df\n",
    "obj = {\n",
    "    \"name\": [\"R. Sharma\", \"S. Dhawan\", \"V. Kohli\"],\n",
    "    \"role\": [\"Batsman\", \"Batsman\", \"Batsman\"],\n",
    "    \"team\": [\"MI\", \"PBKS\", \"RCB\"]\n",
    "}\n",
    "table = df(obj, index = [1, 2, 3])\n",
    "row = table.iloc[0]\n",
    "print(f\"Information about Shana:\\n{row}\")"
   ]
  },
  {
   "cell_type": "markdown",
   "id": "8225a232-5f3a-485e-9177-db64d7cc786c",
   "metadata": {},
   "source": [
    "## Creating new columns\n",
    "- The new columns can be created easily by the same ditionary-like syntax, in any existing DataFrame\n",
    "- The value of it can either be single or an array\n",
    "- If the value passed is array with length not matching the length of the lists, it will again throw the error\n",
    "- If the value passed is single, then it is automatically expanded.\n",
    "- For example, see below ot get more clear idea of what I am trying to convey:"
   ]
  },
  {
   "cell_type": "code",
   "execution_count": 51,
   "id": "9bc49b35-acf7-4a1e-bed0-d42b852efb4d",
   "metadata": {},
   "outputs": [
    {
     "name": "stdout",
     "output_type": "stream",
     "text": [
      "Table showing common total runs between 3 batters:\n",
      "        name     role  team    runs\n",
      "1  R. Sharma  Batsman    MI  10000+\n",
      "2  S. Dhawan  Batsman  PBKS  10000+\n",
      "3   V. Kohli  Batsman   RCB  10000+\n",
      "\n",
      "Table showing the specific runs of each batter:\n",
      "        name     role  team   runs\n",
      "1  R. Sharma  Batsman    MI  19700\n",
      "2  S. Dhawan  Batsman  PBKS  10867\n",
      "3   V. Kohli  Batsman   RCB  27599\n"
     ]
    }
   ],
   "source": [
    "from pandas import DataFrame as df\n",
    "obj = {\n",
    "    \"name\": [\"R. Sharma\", \"S. Dhawan\", \"V. Kohli\"],\n",
    "    \"role\": [\"Batsman\", \"Batsman\", \"Batsman\"],\n",
    "    \"team\": [\"MI\", \"PBKS\", \"RCB\"]\n",
    "}\n",
    "table = df(obj, index = [1, 2, 3])\n",
    "\n",
    "# 1 Value as value of column\n",
    "table[\"runs\"] = \"10000+\"\n",
    "print(f\"Table showing common total runs between 3 batters:\\n{table}\\n\")\n",
    "\n",
    "# array as value of column\n",
    "table[\"runs\"] = [19700, 10867, 27599]\n",
    "print(f\"Table showing the specific runs of each batter:\\n{table}\")"
   ]
  },
  {
   "cell_type": "markdown",
   "id": "448f34cc-ab04-4882-a094-63576dd503d9",
   "metadata": {},
   "source": [
    "## Deleting columns\n",
    "- The columns existing in the table can be deleted by the help of the keyword `del`, like similar to that of the dictionary"
   ]
  },
  {
   "cell_type": "code",
   "execution_count": 50,
   "id": "fa32b56b-251e-4577-adfb-fa7eb0218f8b",
   "metadata": {},
   "outputs": [
    {
     "name": "stdout",
     "output_type": "stream",
     "text": [
      "Table before deleting a column:\n",
      "        name     role  team\n",
      "1  R. Sharma  Batsman    MI\n",
      "2  S. Dhawan  Batsman  PBKS\n",
      "3   V. Kohli  Batsman   RCB\n",
      "\n",
      "Table after deleting the 'team' column:\n",
      "        name     role\n",
      "1  R. Sharma  Batsman\n",
      "2  S. Dhawan  Batsman\n",
      "3   V. Kohli  Batsman\n"
     ]
    }
   ],
   "source": [
    "from pandas import DataFrame as df\n",
    "obj = {\n",
    "    \"name\": [\"R. Sharma\", \"S. Dhawan\", \"V. Kohli\"],\n",
    "    \"role\": [\"Batsman\", \"Batsman\", \"Batsman\"],\n",
    "    \"team\": [\"MI\", \"PBKS\", \"RCB\"]\n",
    "}\n",
    "table = df(obj, index = [1, 2, 3])\n",
    "\n",
    "# Before deleting a column\n",
    "print(f\"Table before deleting a column:\\n{table}\\n\")\n",
    "\n",
    "# Deleting the \"team\"'s column\n",
    "del table[\"team\"]\n",
    "\n",
    "# After deleting the team's column, table\n",
    "print(f\"Table after deleting the 'team' column:\\n{table}\")"
   ]
  },
  {
   "cell_type": "markdown",
   "id": "ed4512fc-2543-4493-9dee-e00e539ce1ad",
   "metadata": {},
   "source": [
    "## Transposing DataFrame\n",
    "- Like NumPy's arrays, transposing can also be done on the DataFrame of Pandas\n",
    "- The same attribute `T` is used for the purpose\n",
    "- For an example:"
   ]
  },
  {
   "cell_type": "code",
   "execution_count": 49,
   "id": "9195a438-40f8-4e68-b56b-d1f0ea460145",
   "metadata": {},
   "outputs": [
    {
     "name": "stdout",
     "output_type": "stream",
     "text": [
      "Normal table is:\n",
      "        name     role  team\n",
      "1  R. Sharma  Batsman    MI\n",
      "2  S. Dhawan  Batsman  PBKS\n",
      "3   V. Kohli  Batsman   RCB\n",
      "\n",
      "Transposing the table gives:\n",
      "              1          2         3\n",
      "name  R. Sharma  S. Dhawan  V. Kohli\n",
      "role    Batsman    Batsman   Batsman\n",
      "team         MI       PBKS       RCB\n"
     ]
    }
   ],
   "source": [
    "from pandas import DataFrame as df\n",
    "obj = {\n",
    "    \"name\": [\"R. Sharma\", \"S. Dhawan\", \"V. Kohli\"],\n",
    "    \"role\": [\"Batsman\", \"Batsman\", \"Batsman\"],\n",
    "    \"team\": [\"MI\", \"PBKS\", \"RCB\"]\n",
    "}\n",
    "table = df(obj, index = [1, 2, 3])\n",
    "\n",
    "# Normal table\n",
    "print(f\"Normal table is:\\n{table}\\n\")\n",
    "\n",
    "# Transposing the table\n",
    "tp = table.T\n",
    "print(f\"Transposing the table gives:\\n{tp}\")"
   ]
  },
  {
   "cell_type": "markdown",
   "id": "aa5f6fdc-0258-4d68-b8a5-4bcb929b139f",
   "metadata": {},
   "source": [
    "## Re-indexing\n",
    "- In Pandas, the objects can be reindexed by using the `reindex` attribute either on Series or DataFrame\n",
    "- Reindexing will change the indexes of the existing DataFrame, hence, if there is nothing pre-existing on that index, it will show the `NaN` there in the new formed object.\n",
    "- A code example is given below:"
   ]
  },
  {
   "cell_type": "code",
   "execution_count": 48,
   "id": "fbe2eef0-fb84-4f69-983b-f4e18801652e",
   "metadata": {},
   "outputs": [
    {
     "name": "stdout",
     "output_type": "stream",
     "text": [
      "Before reindexing:\n",
      "        name     role  team\n",
      "1  R. Sharma  Batsman    MI\n",
      "2  S. Dhawan  Batsman  PBKS\n",
      "3   V. Kohli  Batsman   RCB\n",
      "\n",
      "After reindexing:\n",
      "  name role team\n",
      "a  NaN  NaN  NaN\n",
      "b  NaN  NaN  NaN\n",
      "c  NaN  NaN  NaN\n"
     ]
    }
   ],
   "source": [
    "from pandas import DataFrame as df\n",
    "obj = {\n",
    "    \"name\": [\"R. Sharma\", \"S. Dhawan\", \"V. Kohli\"],\n",
    "    \"role\": [\"Batsman\", \"Batsman\", \"Batsman\"],\n",
    "    \"team\": [\"MI\", \"PBKS\", \"RCB\"]\n",
    "}\n",
    "table = df(obj, index = [1, 2, 3])\n",
    "\n",
    "# Before reindexing\n",
    "print(f\"Before reindexing:\\n{table}\\n\")\n",
    "\n",
    "# Reindexing\n",
    "rI = table.reindex([\"a\", \"b\", \"c\"])\n",
    "\n",
    "# After reindexing\n",
    "print(f\"After reindexing:\\n{rI}\")"
   ]
  },
  {
   "cell_type": "markdown",
   "id": "012dd723-7c62-4e3c-8f92-82ef5eafc4dd",
   "metadata": {},
   "source": [
    "## Deleting values from row\n",
    "- The entries from a Series or DataFrame can be deleted easily using the `drop()` method of the data structures.\n",
    "- Although, the data structure whose part is to be dropped needs to be indexed.\n",
    "- The drop function takes the index as the arguement and removes the corresponding values of the index.\n",
    "- The drop function is opposite to pop, as it returns the new data structure\n",
    "- For example:  "
   ]
  },
  {
   "cell_type": "code",
   "execution_count": 47,
   "id": "a1721387-2cb8-4a97-a432-9a725fe6c993",
   "metadata": {},
   "outputs": [
    {
     "name": "stdout",
     "output_type": "stream",
     "text": [
      "Generated series:\n",
      "1    1\n",
      "2    2\n",
      "3    8\n",
      "4    1\n",
      "5    5\n",
      "dtype: int32\n",
      "\n",
      "After dropping value at 3rd index, series:\n",
      "1    1\n",
      "2    2\n",
      "4    1\n",
      "5    5\n",
      "dtype: int32\n",
      "\n",
      "\n",
      "Generated dataframe:\n",
      "        name        role\n",
      "1  J. Bumrah      Bowler\n",
      "2   V. Kohli     Batsman\n",
      "3  R. Jadeja  AllRounder\n",
      "\n",
      "After dropping the row at index 2, dataframe:\n",
      "        name        role\n",
      "1  J. Bumrah      Bowler\n",
      "3  R. Jadeja  AllRounder\n"
     ]
    }
   ],
   "source": [
    "from pandas import Series as series, DataFrame as df\n",
    "from numpy.random import randint\n",
    "\n",
    "# Deleting element from a series\n",
    "a = randint(1, 11, (5))\n",
    "b = series(a, index = [i for i in range(1, len(a) + 1)])\n",
    "print(f\"Generated series:\\n{b}\\n\")\n",
    "c = b.drop(3)\n",
    "print(f\"After dropping value at 3rd index, series:\\n{c}\\n\\n\")\n",
    "\n",
    "# Deleting element from a dataframe\n",
    "d = {\n",
    "    \"name\": [\"J. Bumrah\", \"V. Kohli\", \"R. Jadeja\"],\n",
    "    \"role\": [\"Bowler\", \"Batsman\", \"AllRounder\"]\n",
    "}\n",
    "e = df(d, index = [i for i in range(1, len(d[\"name\"]) + 1)])\n",
    "print(f\"Generated dataframe:\\n{e}\\n\")\n",
    "f = e.drop(2)\n",
    "print(f\"After dropping the row at index 2, dataframe:\\n{f}\")"
   ]
  },
  {
   "cell_type": "markdown",
   "id": "0667d1cf-59d0-4be7-ab45-5e540d38fcc1",
   "metadata": {},
   "source": [
    "### Deleting values from column\n",
    "- For deleting the values from column of the dataframe, you can pass the value of `axis` arguement as `1`, which is by default set to `0` for deleting the rows by default.\n",
    "- For example:"
   ]
  },
  {
   "cell_type": "code",
   "execution_count": 46,
   "id": "d7f081f9-2d09-4de3-83c6-a4e12b066b4c",
   "metadata": {},
   "outputs": [
    {
     "name": "stdout",
     "output_type": "stream",
     "text": [
      "Generated dataframe:\n",
      "        name        role\n",
      "1  J. Bumrah      Bowler\n",
      "2   V. Kohli     Batsman\n",
      "3  R. Jadeja  AllRounder\n",
      "\n",
      "After dropping the row at index 2, dataframe:\n",
      "        name\n",
      "1  J. Bumrah\n",
      "2   V. Kohli\n",
      "3  R. Jadeja\n"
     ]
    }
   ],
   "source": [
    "from pandas import DataFrame as df\n",
    "a = {\n",
    "    \"name\": [\"J. Bumrah\", \"V. Kohli\", \"R. Jadeja\"],\n",
    "    \"role\": [\"Bowler\", \"Batsman\", \"AllRounder\"]\n",
    "}\n",
    "b = df(a, index = [i for i in range(1, len(a[\"name\"]) + 1)])\n",
    "print(f\"Generated dataframe:\\n{b}\\n\")\n",
    "c = b.drop(\"role\", axis = 1)\n",
    "print(f\"After dropping the row at index 2, dataframe:\\n{c}\")"
   ]
  },
  {
   "cell_type": "markdown",
   "id": "fbdaf3da-1e3c-4c05-9bc6-b735017fcf34",
   "metadata": {},
   "source": [
    "## Modifying existing data structure\n",
    "- Modifying the existing data structure instead of returning the whole new modified data structure is an important aspect at the large level of datasets.\n",
    "- By default, the `.drop()` attribute returns the new data structure, but hopefully, this behaviour of the attribute of returning a whole new data structure can be modified.\n",
    "- It is possible by giving a boolean arguement `inplace`, which is by default set to `False`.\n",
    "- Setting it to `True` does not returns the new DS, instead modifies the existing DS in place, which is a memory efficient way of modifying the DataFrame or Series, but be careful while using the parameter, as you may lose your all crucial data if you try to delete the whole data with the inplace parameter being True.  \n",
    "- For example: "
   ]
  },
  {
   "cell_type": "code",
   "execution_count": 45,
   "id": "49992600-ef1d-4613-9b46-05157d7eece1",
   "metadata": {},
   "outputs": [
    {
     "name": "stdout",
     "output_type": "stream",
     "text": [
      "Generated dataframe:\n",
      "        name        role\n",
      "1  J. Bumrah      Bowler\n",
      "2   V. Kohli     Batsman\n",
      "3  R. Jadeja  AllRounder\n",
      "\n",
      "After dropping the row at index 2, dataframe:\n",
      "        name        role\n",
      "2   V. Kohli     Batsman\n",
      "3  R. Jadeja  AllRounder\n"
     ]
    }
   ],
   "source": [
    "from pandas import DataFrame as df\n",
    "a = {\n",
    "    \"name\": [\"J. Bumrah\", \"V. Kohli\", \"R. Jadeja\"],\n",
    "    \"role\": [\"Bowler\", \"Batsman\", \"AllRounder\"]\n",
    "}\n",
    "b = df(a, index = [i for i in range(1, len(a[\"name\"]) + 1)])\n",
    "print(f\"Generated dataframe:\\n{b}\\n\")\n",
    "b.drop(1, axis = 0, inplace = True)\n",
    "print(f\"After dropping the row at index 2, dataframe:\\n{b}\")"
   ]
  },
  {
   "cell_type": "markdown",
   "id": "abb42687-321b-4e63-986e-1d1072e8328d",
   "metadata": {},
   "source": [
    "## Arithmetic operations\n",
    "- Like arithmetic operations being possible on other data structures, the arithmetic operations are also possible on the built-in data structures of the Pandas, but with a trade-off - that their indexes must be same, and if indexes are not the same, the particular cell or element will be displayed as `NaN`.\n",
    "- For example:"
   ]
  },
  {
   "cell_type": "code",
   "execution_count": 14,
   "id": "b4833cf2-ed48-4551-92cd-525e915b0d91",
   "metadata": {},
   "outputs": [
    {
     "name": "stdout",
     "output_type": "stream",
     "text": [
      "First series:\n",
      "1     3\n",
      "2     2\n",
      "3    10\n",
      "4     6\n",
      "5    10\n",
      "dtype: int32\n",
      "\n",
      "Second series:\n",
      "1    7\n",
      "3    4\n",
      "5    8\n",
      "dtype: int32\n",
      "\n",
      "Sum of both series is:\n",
      "1    10.0\n",
      "2     NaN\n",
      "3    14.0\n",
      "4     NaN\n",
      "5    18.0\n",
      "dtype: float64\n",
      "\n",
      "\n",
      "First dataframe:\n",
      "   A  B   C\n",
      "0  8  6  10\n",
      "1  8  4   7\n",
      "2  5  6   9\n",
      "\n",
      "Second dataframe:\n",
      "   A  C  E\n",
      "0  6  2  9\n",
      "1  9  4  8\n",
      "2  2  9  2\n",
      "\n",
      "Sum of both dataframes:\n",
      "    A   B   C   E\n",
      "0  14 NaN  12 NaN\n",
      "1  17 NaN  11 NaN\n",
      "2   7 NaN  18 NaN\n"
     ]
    }
   ],
   "source": [
    "from numpy.random import randint\n",
    "from pandas import Series as series, DataFrame as df\n",
    "\n",
    "# On series\n",
    "a = randint(1, 11, (5))\n",
    "b = series(a, index = [i for i in range(1, len(a) + 1)])\n",
    "print(f\"First series:\\n{b}\\n\")\n",
    "c = randint(1, 11, (3))\n",
    "d = series(c, index = [i for i in range(1, len(a) + 1, 2)])\n",
    "print(f\"Second series:\\n{d}\\n\")\n",
    "e = b + d\n",
    "print(f\"Sum of both series is:\\n{e}\\n\\n\")\n",
    "\n",
    "# On dataframe\n",
    "f = randint(1, 11, (3, 3))\n",
    "g = df(f, columns = [chr(i) for i in range(65, 68)], index = [i for i in range(len(f))])\n",
    "print(f\"First dataframe:\\n{g}\\n\")\n",
    "h = randint(1, 11, (3, 3))\n",
    "i = df(h, columns = [chr(i) for i in range(65, 70, 2)], index = [i for i in range(len(h))])\n",
    "print(f\"Second dataframe:\\n{i}\\n\")\n",
    "j = g + i\n",
    "print(f\"Sum of both dataframes:\\n{j}\")"
   ]
  },
  {
   "cell_type": "markdown",
   "id": "dc6313f0-68aa-4258-917b-8fea9aa33d62",
   "metadata": {},
   "source": [
    "## Mitigating `NaN`s\n",
    "- In the above examples, as you can see, index or column mismatch results in the production of `NaN` values, which stands for *Not a Number* values.\n",
    "- To overcome the `NaN`s in the result, the parameter `fill_value` is used as a placeholder value, replacing the `NaN`s for any number you argue to it.\n",
    "- For this purpose, the built-in mathematical function needs to be used, like add(), sub(), div(), etc..\n",
    "- For example:"
   ]
  },
  {
   "cell_type": "code",
   "execution_count": 18,
   "id": "b7648ba6-6d81-4ed8-8e10-87f0c2269c7a",
   "metadata": {},
   "outputs": [
    {
     "name": "stdout",
     "output_type": "stream",
     "text": [
      "First dataframe:\n",
      "   A  B   C\n",
      "0  8  6  10\n",
      "1  8  4   7\n",
      "2  5  6   9\n",
      "\n",
      "Second dataframe:\n",
      "   A  C  E\n",
      "0  6  2  9\n",
      "1  9  4  8\n",
      "2  2  9  2\n",
      "\n",
      "Sum of both dataframes:\n",
      "    A    B   C    E\n",
      "0  14  6.0  12  9.0\n",
      "1  17  4.0  11  8.0\n",
      "2   7  6.0  18  2.0\n"
     ]
    }
   ],
   "source": [
    "from numpy.random import randint\n",
    "from pandas import DataFrame as df\n",
    "\n",
    "a = randint(1, 11, (3, 3))\n",
    "b = df(f, columns = [chr(i) for i in range(65, 68)], index = [i for i in range(len(a))])\n",
    "print(f\"First dataframe:\\n{b}\\n\")\n",
    "\n",
    "c = randint(1, 11, (3, 3))\n",
    "d = df(h, columns = [chr(i) for i in range(65, 70, 2)], index = [i for i in range(len(c))])\n",
    "print(f\"Second dataframe:\\n{d}\\n\")\n",
    "\n",
    "e = b.add(d, fill_value = 0)\n",
    "print(f\"Sum of both dataframes:\\n{e}\")"
   ]
  },
  {
   "cell_type": "markdown",
   "id": "dcc04ce2-df60-40ee-96a6-35d5776122fc",
   "metadata": {},
   "source": [
    "## Applying functions\n",
    "- The function which is specifically applied or mapped to a series, dataframe or column or row of a dataframe can be said to be the function applied or mapped\n",
    "- For example"
   ]
  },
  {
   "cell_type": "code",
   "execution_count": 50,
   "id": "931e0bce-2371-451b-9dc2-b1503925c5b4",
   "metadata": {},
   "outputs": [
    {
     "name": "stdout",
     "output_type": "stream",
     "text": [
      "Generated dataframe:\n",
      "         round 1  round 2  round 3\n",
      "Rohit         97       91       74\n",
      "Jasprit       99       86       93\n",
      "Virat         99       83       37\n",
      "\n",
      "Sum is:\n",
      "Rohit      262\n",
      "Jasprit    292\n",
      "Virat      154\n",
      "dtype: int64\n",
      "\n",
      "Average is:\n",
      "Rohit      87.33\n",
      "Jasprit    92.67\n",
      "Virat      73.00\n",
      "dtype: float64\n"
     ]
    }
   ],
   "source": [
    "from pandas import DataFrame as df\n",
    "\n",
    "a = {\n",
    "    \"round 1\": [97, 99, 99],\n",
    "    \"round 2\": [91, 86, 83],\n",
    "    \"round 3\": [74, 93, 37]\n",
    "}\n",
    "b = df(a, index = [\"Rohit\", \"Jasprit\", \"Virat\"])\n",
    "print(f\"Generated dataframe:\\n{b}\\n\")\n",
    "\n",
    "# Summing the scores of players\n",
    "f = lambda d: sum(d)\n",
    "c = b.apply(f, axis = 1)\n",
    "print(f\"Sum is:\\n{d}\\n\")\n",
    "\n",
    "# Taking out the average of the sums of the scores of the players\n",
    "e = c/len(a[\"round 1\"])\n",
    "print(f\"Average is:\\n{round(e, 2)}\")"
   ]
  },
  {
   "cell_type": "markdown",
   "id": "b2edda22-eb2b-4713-8413-05894608116b",
   "metadata": {},
   "source": [
    "- Here in the above code, the scores by each player is being averaged out at last and calculated by using the lambda function and `.apply()` attribute.\n",
    "- The direction of summing can be handled using `axis` arguement as said before\n",
    "- In case of series also, the same way, the functions can be applied.\n",
    "## Sorting\n",
    "### By index\n",
    "- In pandas, the data can also be sorted by index, using the `sort_index()` function, which returns the new sorted data index-wise\n",
    "- For example, have a look:"
   ]
  },
  {
   "cell_type": "code",
   "execution_count": 65,
   "id": "734bf8fe-005f-4cf8-8167-2e2d1e918de5",
   "metadata": {},
   "outputs": [
    {
     "name": "stdout",
     "output_type": "stream",
     "text": [
      "Series without sorting:\n",
      "5     3\n",
      "4     7\n",
      "3     1\n",
      "2     4\n",
      "1    10\n",
      "dtype: int32\n",
      "\n",
      "Series with sorting:\n",
      "1    10\n",
      "2     4\n",
      "3     1\n",
      "4     7\n",
      "5     3\n",
      "dtype: int32\n",
      "\n",
      "\n",
      "DataFrame without sorting:\n",
      "   C  B  A\n",
      "0  1  3  2\n",
      "1  4  6  4\n",
      "2  1  7  2\n",
      "\n",
      "DataFrame with sorting:\n",
      "   A  B  C\n",
      "0  2  3  1\n",
      "1  4  6  4\n",
      "2  2  7  1\n"
     ]
    }
   ],
   "source": [
    "from pandas import Series as series, DataFrame as df\n",
    "from numpy.random import randint\n",
    "\n",
    "# On series\n",
    "a = randint(1, 11, (5))\n",
    "b = series(a, index = [i for i in range(len(a), 0, -1)])\n",
    "print(f\"Series without sorting:\\n{b}\\n\")\n",
    "c = b.sort_index()\n",
    "print(f\"Series with sorting:\\n{c}\\n\\n\")\n",
    "\n",
    "# On dataframe\n",
    "d = randint(1, 11, (3, 3))\n",
    "e = df(d, index = [i for i in range(len(d))], columns = [chr(i) for i in range(67, 64, -1)])\n",
    "print(f\"DataFrame without sorting:\\n{e}\\n\")\n",
    "f = e.sort_index(axis = \"columns\", ascending = True)\n",
    "print(f\"DataFrame with sorting:\\n{f}\")"
   ]
  },
  {
   "cell_type": "markdown",
   "id": "c85a8d15-64b3-48ea-b735-c3afb205b771",
   "metadata": {},
   "source": [
    "### By value\n",
    "- To sort the data by its values instead of its index, use `sort_values` method\n",
    "- The missing values like `NaN`s are put at the last\n",
    "- Example:"
   ]
  },
  {
   "cell_type": "code",
   "execution_count": 70,
   "id": "f2d2d2e2-10a2-4826-9411-c784bc98a16f",
   "metadata": {},
   "outputs": [
    {
     "name": "stdout",
     "output_type": "stream",
     "text": [
      "Generated series is:\n",
      "0     9.0\n",
      "1     NaN\n",
      "2    14.0\n",
      "3    -1.0\n",
      "4     0.0\n",
      "dtype: float64\n",
      "\n",
      "Sorted series is:\n",
      "3    -1.0\n",
      "4     0.0\n",
      "0     9.0\n",
      "2    14.0\n",
      "1     NaN\n",
      "dtype: float64\n",
      "\n",
      "\n",
      "Generated dataframe is:\n",
      "   b  a\n",
      "0  4  0\n",
      "1  7  1\n",
      "2 -3  0\n",
      "3  2  1\n",
      "\n",
      "Sorted dataframe is:\n",
      "   b  a\n",
      "2 -3  0\n",
      "3  2  1\n",
      "0  4  0\n",
      "1  7  1\n",
      "\n"
     ]
    }
   ],
   "source": [
    "import pandas as pd\n",
    "import numpy as np\n",
    "\n",
    "# Sorting  values of series\n",
    "a = pd.Series([9, np.nan, 14, -1, 0])\n",
    "print(f\"Generated series is:\\n{a}\\n\")\n",
    "b = a.sort_values()\n",
    "print(f\"Sorted series is:\\n{b}\\n\\n\")\n",
    "\n",
    "# Sorting values of dataframe\n",
    "c = pd.DataFrame({\n",
    "    \"b\": [4, 7, -3, 2],\n",
    "    \"a\": [0, 1, 0, 1]\n",
    "})\n",
    "print(f\"Generated dataframe is:\\n{c}\\n\")\n",
    "d = c.sort_values(by = \"b\")\n",
    "print(f\"Sorted dataframe is:\\n{d}\\n\")"
   ]
  },
  {
   "cell_type": "markdown",
   "id": "ac781dde-4ac8-4f5b-9ce8-6a1c8fdaffde",
   "metadata": {},
   "source": [
    "- For sorting the dataframes, you must pass a required arguement to sort_value function which is `by`.\n",
    "- The by parameter is used to determine the keys for sorting, as seen in the example above\n",
    "## Ranking\n",
    "- Ranking is used to assign the ranks in the data elements, in float-value\n",
    "- The `rank()` method is used for assigning the ranks to the data structures\n",
    "- The elements with same values got the rank assigned by averaging out the sum of their positions\n",
    "- For DataFrame, column or row can be ranked with axis flag"
   ]
  },
  {
   "cell_type": "code",
   "execution_count": 74,
   "id": "21864a59-df21-4f01-b7f2-92e62bc0adc7",
   "metadata": {},
   "outputs": [
    {
     "name": "stdout",
     "output_type": "stream",
     "text": [
      "Generated series:\n",
      "0    10\n",
      "1     9\n",
      "2     7\n",
      "3     7\n",
      "4     2\n",
      "dtype: int32\n",
      "\n",
      "Ranks of elements of series:\n",
      "0    5.0\n",
      "1    4.0\n",
      "2    2.5\n",
      "3    2.5\n",
      "4    1.0\n",
      "dtype: float64\n",
      "\n",
      "Generated dataframe:\n",
      "    a  b   c\n",
      "0  10  8   1\n",
      "1   5  4   5\n",
      "2   1  4  10\n",
      "3  10  5   9\n",
      "4   2  8   8\n",
      "\n",
      "Sorted dataframe as per rows:\n",
      "     a    b    c\n",
      "0  4.5  4.5  1.0\n",
      "1  3.0  1.5  2.0\n",
      "2  1.0  1.5  5.0\n",
      "3  4.5  3.0  4.0\n",
      "4  2.0  4.5  3.0\n"
     ]
    }
   ],
   "source": [
    "from pandas import Series as series, DataFrame as df\n",
    "from numpy.random import randint\n",
    "\n",
    "# Ranking series\n",
    "a = randint(1, 11, (5))\n",
    "b = series(a)\n",
    "print(f\"Generated series:\\n{b}\\n\")\n",
    "c = b.rank()\n",
    "print(f\"Ranks of elements of series:\\n{c}\\n\")\n",
    "\n",
    "# Ranking dataframe\n",
    "d = df({\n",
    "    \"a\": list(randint(1, 11, (5))),\n",
    "    \"b\": list(randint(1, 11, (5))),\n",
    "    \"c\": list(randint(1, 11, (5)))\n",
    "})\n",
    "print(f\"Generated dataframe:\\n{d}\\n\")\n",
    "e = d.rank(axis = \"rows\")\n",
    "print(f\"Ranked elements of dataframe as per rows:\\n{e}\")"
   ]
  }
 ],
 "metadata": {
  "kernelspec": {
   "display_name": "Python 3 (ipykernel)",
   "language": "python",
   "name": "python3"
  },
  "language_info": {
   "codemirror_mode": {
    "name": "ipython",
    "version": 3
   },
   "file_extension": ".py",
   "mimetype": "text/x-python",
   "name": "python",
   "nbconvert_exporter": "python",
   "pygments_lexer": "ipython3",
   "version": "3.12.7"
  }
 },
 "nbformat": 4,
 "nbformat_minor": 5
}
