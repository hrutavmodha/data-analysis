{
 "cells": [
  {
   "cell_type": "markdown",
   "id": "312c95b0-ffd5-45dd-8c8f-714be0dc31df",
   "metadata": {},
   "source": [
    "# Introduction to `pandas`\n",
    "- `pandas` is a fast, powerful, flexible and an easy-to-use open-source data analysis tool built on the top of the Python and NumPy\n",
    "- It provides 2 data structures primarily\n",
    "    1. `Series`:\n",
    "        - Series is a 1-D array, which is labeled along with its index.\n",
    "        - Unlike the traditional array and list, it is pretty-printed as the cells of the tables\n",
    "        - The key difference between a series and an array or a list is that the indexing data-type of the series can be modified by the user, while this is not true for lists and arrays\n",
    "        - Notably, not only out of list, but Series can also be created by passing the Python's built-in dictionary.\n",
    "        - In case of a dictionary being the Series, the keys are taken as index\n",
    "    2. `DataFrame`:\n",
    "        - DataFrame is another data structure provided by `pandas`.\n",
    "        - It is a 2-D representation of the labeled data, from table\n",
    "# Features and Advantages of `pandas`\n",
    "- `pandas` easily handles the missing values, showing `NA` or `NaN` for the values which are `undefined`\n",
    "- It provides powerful functions to classify the data in groups and also aggregate it\n",
    "- `pandas` supports reading and writing the data from various formats which includes:\n",
    "    1. CSV\n",
    "    2. JSON\n",
    "    3. Excel\n",
    "    4. SQL\n",
    "- `pandas` has built-in support for time-series\n",
    "- `pandas`, when combined with `numpy` and `matplotlib`, can serve the purpose of data manipulation and data analysis very well\n",
    "- Let's get started with coding `pandas`\n",
    "# Creating a Series"
   ]
  },
  {
   "cell_type": "code",
   "execution_count": 1,
   "id": "e8e11850-9cde-46cf-bca0-71b8ea744228",
   "metadata": {},
   "outputs": [
    {
     "name": "stdout",
     "output_type": "stream",
     "text": [
      "0        1\n",
      "1     True\n",
      "2    Hello\n",
      "3     3.14\n",
      "dtype: object\n"
     ]
    }
   ],
   "source": [
    "# import Series as series from \"pandas\"\n",
    "from pandas import Series as series\n",
    "a = series([1, True, \"Hello\", 3.14])\n",
    "print(a)"
   ]
  },
  {
   "cell_type": "markdown",
   "id": "a62cc709-19b2-4d00-862d-c5688b5466b2",
   "metadata": {},
   "source": [
    "## Accessing index and values of the series seperately\n",
    "1. **Values**\n",
    "- Values of a series can be accessed by using the attribute `value` of the series \n",
    "2. **Index**\n",
    "- Index of the series can be accessed by using the attribute `index` of the series "
   ]
  },
  {
   "cell_type": "code",
   "execution_count": 2,
   "id": "e5bf5d8a-0635-4683-8ea5-74c890e23c6f",
   "metadata": {},
   "outputs": [
    {
     "name": "stdout",
     "output_type": "stream",
     "text": [
      "Generated series:\n",
      "0        1\n",
      "1       Hi\n",
      "2    False\n",
      "3     3.33\n",
      "dtype: object\n",
      "\n",
      "Values of the series are:\n",
      "[1 'Hi' False 3.33]\n",
      "\n",
      "Indexes of the series are:\n",
      "RangeIndex(start=0, stop=4, step=1)\n"
     ]
    }
   ],
   "source": [
    "from pandas import Series as series\n",
    "a = series([1, \"Hi\", False, 3.33])\n",
    "print(f\"Generated series:\\n{a}\\n\")\n",
    "\n",
    "# Accessing values\n",
    "b = a.values\n",
    "print(f\"Values of the series are:\\n{b}\\n\")\n",
    "\n",
    "# Accessing indexes\n",
    "c = a.index\n",
    "print(f\"Indexes of the series are:\\n{c}\")"
   ]
  }
 ],
 "metadata": {
  "kernelspec": {
   "display_name": "Python 3 (ipykernel)",
   "language": "python",
   "name": "python3"
  },
  "language_info": {
   "codemirror_mode": {
    "name": "ipython",
    "version": 3
   },
   "file_extension": ".py",
   "mimetype": "text/x-python",
   "name": "python",
   "nbconvert_exporter": "python",
   "pygments_lexer": "ipython3",
   "version": "3.12.7"
  }
 },
 "nbformat": 4,
 "nbformat_minor": 5
}
